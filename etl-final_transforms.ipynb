{
 "cells": [
  {
   "cell_type": "code",
   "execution_count": 5,
   "metadata": {},
   "outputs": [],
   "source": [
    "import pandas as pd\n",
    "import numpy as np\n",
    "from data import transformations as trf"
   ]
  },
  {
   "cell_type": "code",
   "execution_count": 6,
   "metadata": {},
   "outputs": [],
   "source": [
    "data = pd.read_csv(\"dataset/transformed_data/initial_train_data.csv\")\n",
    "weekly = pd.read_csv(\"dataset/raw_data/timeseries/time_series_weekly_adjusted.csv\")\n",
    "\n",
    "weekly = weekly[[\"timestamp\", \"symbol\", \"adjusted close\"]]"
   ]
  },
  {
   "cell_type": "code",
   "execution_count": 7,
   "metadata": {},
   "outputs": [],
   "source": [
    "# Calculate fundamental metrics\n",
    "\n",
    "data[\"PERatio\"] = np.where(data['eps'] != 0, data['adjusted close'] / data['eps'], 0)\n",
    "data[\"currentEquity\"] = data[\"totalCurrentAssets\"] - data[\"totalCurrentLiabilities\"]\n",
    "\n",
    "data = data[['symbol', 'timestamp', 'adjusted close', 'freeCashFlow',\n",
    "       'eps', 'Sector', 'grossProfitRatio', 'operatingIncomeRatio',\n",
    "       'totalEquity', \"PERatio\", \"currentEquity\"\n",
    "       ]]"
   ]
  },
  {
   "cell_type": "code",
   "execution_count": 8,
   "metadata": {},
   "outputs": [],
   "source": [
    "# Add economic indicators\n",
    "\n",
    "ffr = pd.read_csv(\"dataset/raw_data/economy/federal_funds_rate.csv\")\n",
    "cpi = pd.read_csv(\"dataset/raw_data/economy/cpi.csv\")\n",
    "sp500_bench = pd.read_csv(\"dataset/info_data/S&P500-prices.csv\")\n",
    "\n",
    "\n",
    "data[\"timestamp\"] = pd.to_datetime(data[\"timestamp\"])\n",
    "weekly[\"timestamp\"] = pd.to_datetime(weekly[\"timestamp\"])\n",
    "ffr[\"timestamp\"] = pd.to_datetime(ffr[\"timestamp\"])\n",
    "cpi[\"timestamp\"] = pd.to_datetime(cpi[\"timestamp\"])\n",
    "sp500_bench[\"timestamp\"] = pd.to_datetime(sp500_bench[\"timestamp\"])\n",
    "\n",
    "ffr = ffr.rename({\"value\": \"ffr\"}, axis=1)\n",
    "cpi = cpi.rename({\"value\": \"cpi\"}, axis=1)\n",
    "sp500_bench['bm_performance'] = sp500_bench.sort_values([\"timestamp\"])[\"adjusted close\"].pct_change(periods=1).shift(-1)\n",
    "sp500_bench['bm_performance_last_month'] = sp500_bench[\"bm_performance\"].shift(-1)\n",
    "\n",
    "sp500_bench = sp500_bench[[\"timestamp\", \"bm_performance_last_month\"]]\n",
    "\n",
    "data = pd.merge_asof(data.sort_values(['timestamp']), ffr.sort_values(['timestamp']),\n",
    "                              on='timestamp', direction='backward')\n",
    "\n",
    "data = pd.merge_asof(data.sort_values(['timestamp']), cpi.sort_values(['timestamp']),\n",
    "                              on='timestamp', direction='backward')\n",
    "\n",
    "data = pd.merge_asof(data.sort_values(['timestamp']), sp500_bench.sort_values(['timestamp']),\n",
    "                              on='timestamp', direction='backward')\n",
    "\n",
    "data = data.sort_values(['symbol', 'timestamp'], ascending=[True, True])\n",
    "weekly = weekly.sort_values(['symbol', 'timestamp'], ascending=[True, True])\n",
    "\n",
    "data = data.rename({\"adjusted close\": \"close\"}, axis=1)\n",
    "weekly = weekly.rename({\"adjusted close\": \"close\"}, axis=1)"
   ]
  },
  {
   "cell_type": "code",
   "execution_count": 9,
   "metadata": {},
   "outputs": [],
   "source": [
    "# Add techincal indicators\n",
    "\n",
    "timeperiods = [3, 6, 12]\n",
    "\n",
    "data = trf.calculate_sma(data, \"close\", timeperiods)\n",
    "data = trf.calculate_ema(data, \"close\", timeperiods)\n",
    "data = trf.calculate_rolling_high_low(data, \"close\", [12])\n",
    "data = trf.calculate_rsi(data, \"close\", timeperiods)\n",
    "data, histogram = trf.calculate_macd(data, \"close\", [(12, 26, 9)])\n"
   ]
  },
  {
   "cell_type": "code",
   "execution_count": 10,
   "metadata": {},
   "outputs": [],
   "source": [
    "# Transform columns into ML readable values\n",
    "\n",
    "data = pd.get_dummies(data, columns=[\"Sector\"])\n",
    "data = trf.extract_month_quarter(data, \"timestamp\")"
   ]
  },
  {
   "cell_type": "code",
   "execution_count": 11,
   "metadata": {},
   "outputs": [],
   "source": [
    "# Remove stocks which are listed less than two years\n",
    "\n",
    "data = data[data[\"symbol\"].isin(list(data[\"symbol\"].value_counts().loc[lambda x: x>26].index))]\n",
    "weekly = weekly[weekly[\"symbol\"].isin(list(weekly[\"symbol\"].value_counts().loc[lambda x: x>26*4.5].index))]"
   ]
  },
  {
   "cell_type": "code",
   "execution_count": 12,
   "metadata": {},
   "outputs": [],
   "source": [
    "# Label data\n",
    "\n",
    "data = trf.label_performance(data, \"close\")\n",
    "weekly = trf.label_performance(weekly, \"close\")"
   ]
  },
  {
   "cell_type": "code",
   "execution_count": 13,
   "metadata": {},
   "outputs": [],
   "source": [
    "# Remove last two month values with incomplete data\n",
    "\n",
    "data = data[data[\"timestamp\"] < \"2023-04-01\"]\n",
    "weekly = weekly[weekly[\"timestamp\"] < \"2023-04-01\"]"
   ]
  },
  {
   "cell_type": "code",
   "execution_count": 14,
   "metadata": {},
   "outputs": [],
   "source": [
    "# Add performance metrics\n",
    "\n",
    "data[\"performance_last_month\"] = data.groupby('symbol')[\"performance\"].shift(1)\n",
    "weekly[\"performance_last_month\"] = weekly.groupby('symbol')[\"performance\"].shift(1)\n",
    "\n",
    "data = trf.calculate_sma(data, \"performance_last_month\", timeperiods)\n",
    "data = trf.calculate_ema(data, \"performance_last_month\", timeperiods)\n"
   ]
  },
  {
   "cell_type": "code",
   "execution_count": 15,
   "metadata": {},
   "outputs": [],
   "source": [
    "data.to_csv(\"dataset/final_data/gold_data.csv\", index=False)\n",
    "weekly.to_csv(\"dataset/final_data/weekly_gold_data.csv\", index=False)"
   ]
  }
 ],
 "metadata": {
  "kernelspec": {
   "display_name": "thesis_venv",
   "language": "python",
   "name": "python3"
  },
  "language_info": {
   "codemirror_mode": {
    "name": "ipython",
    "version": 3
   },
   "file_extension": ".py",
   "mimetype": "text/x-python",
   "name": "python",
   "nbconvert_exporter": "python",
   "pygments_lexer": "ipython3",
   "version": "3.10.10"
  },
  "orig_nbformat": 4
 },
 "nbformat": 4,
 "nbformat_minor": 2
}
