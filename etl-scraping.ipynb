{
 "cells": [
  {
   "cell_type": "code",
   "execution_count": 8,
   "metadata": {},
   "outputs": [],
   "source": [
    "import re\n",
    "import json\n",
    "import requests\n",
    "from bs4 import BeautifulSoup\n",
    "import pandas as pd\n",
    "from data.extraction import get_sp500\n",
    "import yaml\n",
    "from tqdm import notebook"
   ]
  },
  {
   "cell_type": "code",
   "execution_count": 9,
   "metadata": {},
   "outputs": [],
   "source": [
    "cookies = {\n",
    "    '_clck': '1grxf1v|2|fbl|0|1229',\n",
    "    '_ga': 'GA1.1.1352746695.1684077774',\n",
    "    '__cf_bm': 'Q37GL_25LtWRK64er_9MPxFGQmg9jXQGM3HfWE3UG.8-1684081502-0-AfFHvUv5q7IKuRlq2jTdHjGWwpcceyn0ovAE7dpD8OFIVWYxGoip4QzOlkz0zagOuUpOxij7ARHUdBb2ZWOPAsBvFtJTvoq8FSfvJC0YTISf',\n",
    "    'otpid': '64610b9039b54fbcc1c5e001',\n",
    "    'token': 'Bearer%20eyJhbGciOiJIUzI1NiIsInR5cCI6IkpXVCJ9.eyJlbWFpbCI6ImRla292aWMuZGFyaW9AZ21haWwuY29tIiwibmFtZSI6IkRhcmlvIERla292acSHIiwidGllciI6InN1cHBvcnRlciIsImNyZWF0ZWRBdCI6IjIwMjMtMDUtMTRUMTU6MjY6MTkuOTYyWiIsImlhdCI6MTY4NDA4MTU3MSwiZXhwIjoxNzE1NjM4NDk3fQ.W_KvQE48Nr29TfzLaePRvJJ0jYn6pfFXhFDHFFRDALM',\n",
    "    '_ga_65KH44GT56': 'GS1.1.1684077774.1.1.1684081606.0.0.0',\n",
    "    '_clsk': 'ibfps|1684082196149|60|1|s.clarity.ms/collect',\n",
    "}\n",
    "\n",
    "headers = {\n",
    "    'authority': 'roic.ai',\n",
    "    'accept': 'text/html,application/xhtml+xml,application/xml;q=0.9,image/avif,image/webp,image/apng,*/*;q=0.8,application/signed-exchange;v=b3;q=0.7',\n",
    "    'accept-language': 'en-US,en;q=0.9,hr;q=0.8',\n",
    "    'cache-control': 'max-age=0',\n",
    "    # 'cookie': '_clck=1grxf1v|2|fbl|0|1229; _ga=GA1.1.1352746695.1684077774; __cf_bm=Q37GL_25LtWRK64er_9MPxFGQmg9jXQGM3HfWE3UG.8-1684081502-0-AfFHvUv5q7IKuRlq2jTdHjGWwpcceyn0ovAE7dpD8OFIVWYxGoip4QzOlkz0zagOuUpOxij7ARHUdBb2ZWOPAsBvFtJTvoq8FSfvJC0YTISf; otpid=64610b9039b54fbcc1c5e001; token=Bearer%20eyJhbGciOiJIUzI1NiIsInR5cCI6IkpXVCJ9.eyJlbWFpbCI6ImRla292aWMuZGFyaW9AZ21haWwuY29tIiwibmFtZSI6IkRhcmlvIERla292acSHIiwidGllciI6InN1cHBvcnRlciIsImNyZWF0ZWRBdCI6IjIwMjMtMDUtMTRUMTU6MjY6MTkuOTYyWiIsImlhdCI6MTY4NDA4MTU3MSwiZXhwIjoxNzE1NjM4NDk3fQ.W_KvQE48Nr29TfzLaePRvJJ0jYn6pfFXhFDHFFRDALM; _ga_65KH44GT56=GS1.1.1684077774.1.1.1684081606.0.0.0; _clsk=ibfps|1684082196149|60|1|s.clarity.ms/collect',\n",
    "    'referer': 'https://roic.ai/company/GOOG?utm_source=main',\n",
    "    'sec-ch-ua': '\"Chromium\";v=\"112\", \"Google Chrome\";v=\"112\", \"Not:A-Brand\";v=\"99\"',\n",
    "    'sec-ch-ua-mobile': '?0',\n",
    "    'sec-ch-ua-platform': '\"macOS\"',\n",
    "    'sec-fetch-dest': 'document',\n",
    "    'sec-fetch-mode': 'navigate',\n",
    "    'sec-fetch-site': 'same-origin',\n",
    "    'sec-fetch-user': '?1',\n",
    "    'upgrade-insecure-requests': '1',\n",
    "    'user-agent': 'Mozilla/5.0 (Macintosh; Intel Mac OS X 10_15_7) AppleWebKit/537.36 (KHTML, like Gecko) Chrome/112.0.0.0 Safari/537.36',\n",
    "}\n",
    "\n",
    "params = {\n",
    "    'fs': 'quarterly',\n",
    "}"
   ]
  },
  {
   "cell_type": "code",
   "execution_count": 10,
   "metadata": {},
   "outputs": [
    {
     "data": {
      "application/vnd.jupyter.widget-view+json": {
       "model_id": "a56787f7d8ef4dd6a4ab425dd4174020",
       "version_major": 2,
       "version_minor": 0
      },
      "text/plain": [
       "  0%|          | 0/503 [00:00<?, ?it/s]"
      ]
     },
     "metadata": {},
     "output_type": "display_data"
    }
   ],
   "source": [
    "with open(\"config.yaml\") as config_fh:\n",
    "    try:\n",
    "        config = yaml.safe_load(config_fh)[\"API_CONNECTION\"]\n",
    "    except yaml.YAMLError as e:\n",
    "        print(f\"An error occured when reading YAML file: {e}\")\n",
    "\n",
    "symbols = get_sp500(config[\"SYMBOL_URL\"])\n",
    "output_path = \"dataset/raw_data/roic_data/\"\n",
    "\n",
    "for i, ticker in enumerate(notebook.tqdm(symbols.loc[:, \"Symbol\"])):\n",
    "    if ticker == \"FI\":\n",
    "        ticker = \"FISV\"\n",
    "    soup = BeautifulSoup(requests.get(f'https://roic.ai/financials/{ticker}', params=params, cookies=cookies, headers=headers).content, \"html.parser\")\n",
    "    data = json.loads(soup.select_one(\"#__NEXT_DATA__\").text)\n",
    "    #data = json.loads(soup.select_one(\"#__NEXT_DATA__\").text)\n",
    "\n",
    "    # umcomment this to print all data:\n",
    "    # print(json.dumps(data[\"props\"][\"pageProps\"][\"data\"][\"data\"], indent=4))\n",
    "\n",
    "    df_bsq = pd.DataFrame(data[\"props\"][\"pageProps\"][\"data\"][\"data\"][\"bsq\"])\n",
    "    df_cfq = pd.DataFrame(data[\"props\"][\"pageProps\"][\"data\"][\"data\"][\"cfq\"])\n",
    "    df_isq = pd.DataFrame(data[\"props\"][\"pageProps\"][\"data\"][\"data\"][\"isq\"])\n",
    "\n",
    "    df_bsq[\"symbol\"] = df_bsq[\"symbol\"].replace(\"FISV\", \"FI\")\n",
    "    df_cfq[\"symbol\"] = df_cfq[\"symbol\"].replace(\"FISV\", \"FI\")\n",
    "    df_isq[\"symbol\"] = df_isq[\"symbol\"].replace(\"FISV\", \"FI\")\n",
    "\n",
    "    if i != 0:\n",
    "        df_bsq.to_csv(f\"{output_path}bsq.csv\", mode='a', header=False, index=False)\n",
    "        df_cfq.to_csv(f\"{output_path}cfq.csv\", mode='a', header=False, index=False)\n",
    "        df_isq.to_csv(f\"{output_path}isq.csv\", mode='a', header=False, index=False)\n",
    "    else:\n",
    "        df_bsq.to_csv(f\"{output_path}bsq.csv\", header=True, index=False)\n",
    "        df_cfq.to_csv(f\"{output_path}cfq.csv\", header=True, index=False)\n",
    "        df_isq.to_csv(f\"{output_path}isq.csv\", header=True, index=False)"
   ]
  }
 ],
 "metadata": {
  "kernelspec": {
   "display_name": "thesis_venv",
   "language": "python",
   "name": "python3"
  },
  "language_info": {
   "codemirror_mode": {
    "name": "ipython",
    "version": 3
   },
   "file_extension": ".py",
   "mimetype": "text/x-python",
   "name": "python",
   "nbconvert_exporter": "python",
   "pygments_lexer": "ipython3",
   "version": "3.10.10"
  },
  "orig_nbformat": 4
 },
 "nbformat": 4,
 "nbformat_minor": 2
}
