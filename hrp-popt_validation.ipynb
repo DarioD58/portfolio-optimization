{
 "cells": [
  {
   "cell_type": "code",
   "execution_count": 1,
   "metadata": {},
   "outputs": [],
   "source": [
    "from portfolio_optimizer import PortfolioOptimizer, calc_sharpe_ratio, calc_sortino_ratio\n",
    "import pandas as pd\n",
    "from portfolio_optimizer.stock_choice import MLChoice\n",
    "from portfolio_optimizer.weight_allocators import SimpleAllocator\n",
    "import matplotlib.pyplot as plt\n",
    "import seaborn as sns\n",
    "import numpy as np\n",
    "import plotly.graph_objects as go\n",
    "pd.options.mode.chained_assignment = None"
   ]
  },
  {
   "attachments": {},
   "cell_type": "markdown",
   "metadata": {},
   "source": [
    "## HRP performance comparison\n",
    "\n",
    "For 50 assets over 5 year testing period with monthly reinvesting"
   ]
  },
  {
   "cell_type": "code",
   "execution_count": 2,
   "metadata": {},
   "outputs": [],
   "source": [
    "results_df = pd.read_csv(\"experiments/results/final_results.csv\")"
   ]
  },
  {
   "cell_type": "code",
   "execution_count": 3,
   "metadata": {},
   "outputs": [],
   "source": [
    "relevant_results = ([\n",
    "    key for key in results_df.columns \n",
    "    if (\"50\" in key \n",
    "        and \"SMAChoice-6\" in key)\n",
    "        or key == \"timestamp\"\n",
    "        or key == \"benchmark\"\n",
    "    ]\n",
    ")\n",
    "\n",
    "rel_results_df = results_df[relevant_results]"
   ]
  },
  {
   "cell_type": "code",
   "execution_count": 4,
   "metadata": {},
   "outputs": [],
   "source": [
    "for key in rel_results_df.columns:\n",
    "    if key == \"timestamp\" or \"correct\" in key:\n",
    "        continue\n",
    "    else:\n",
    "        rel_results_df.loc[:, f'cumulative_{key}'] = ((1 + rel_results_df.loc[:, key]).cumprod()) - 1\n",
    "        # print(investment, np.std(results[key]), np.mean(results[key]))"
   ]
  },
  {
   "cell_type": "code",
   "execution_count": 5,
   "metadata": {},
   "outputs": [],
   "source": [
    "df = rel_results_df.copy(deep=True)"
   ]
  },
  {
   "cell_type": "code",
   "execution_count": 6,
   "metadata": {},
   "outputs": [
    {
     "data": {
      "application/vnd.plotly.v1+json": {
       "config": {
        "plotlyServerURL": "https://plot.ly"
       },
       "data": [
        {
         "line": {
          "color": "#1f77b4"
         },
         "mode": "lines",
         "name": "S&P500",
         "type": "scatter",
         "x": [
          "2018-04-30",
          "2018-05-31",
          "2018-06-29",
          "2018-07-31",
          "2018-08-31",
          "2018-09-28",
          "2018-10-31",
          "2018-11-30",
          "2018-12-31",
          "2019-01-31",
          "2019-02-28",
          "2019-03-29",
          "2019-04-30",
          "2019-05-31",
          "2019-06-28",
          "2019-07-31",
          "2019-08-30",
          "2019-09-30",
          "2019-10-31",
          "2019-11-29",
          "2019-12-31",
          "2020-01-31",
          "2020-02-28",
          "2020-03-31",
          "2020-04-30",
          "2020-05-29",
          "2020-06-30",
          "2020-07-31",
          "2020-08-31",
          "2020-09-30",
          "2020-10-30",
          "2020-11-30",
          "2020-12-31",
          "2021-01-29",
          "2021-02-26",
          "2021-03-31",
          "2021-04-30",
          "2021-05-28",
          "2021-06-30",
          "2021-07-30",
          "2021-08-31",
          "2021-09-30",
          "2021-10-29",
          "2021-11-30",
          "2021-12-31",
          "2022-01-31",
          "2022-02-28",
          "2022-03-31",
          "2022-04-29",
          "2022-05-31",
          "2022-06-30",
          "2022-07-29",
          "2022-08-31",
          "2022-09-30",
          "2022-10-31",
          "2022-11-30",
          "2022-12-30",
          "2023-01-31",
          "2023-02-28",
          "2023-03-31"
         ],
         "y": [
          0.02430903583262367,
          0.03020430762689963,
          0.06836990997248438,
          0.10247185326993913,
          0.1090299826684773,
          0.03239103737421023,
          0.051541401410333254,
          -0.04092744036856377,
          0.03586146152480296,
          0.0694397926314454,
          0.08877389469833363,
          0.1332529170472223,
          0.060984135498146186,
          0.1348208698389075,
          0.15197854137545597,
          0.13269057980059884,
          0.15475397436483695,
          0.18027955370609083,
          0.22300358948309884,
          0.2585115818814525,
          0.25800321253175773,
          0.158412668201662,
          0.014025061702608754,
          0.14278957999381214,
          0.197238244370757,
          0.21850200772935646,
          0.2902624199287378,
          0.380318361155638,
          0.32869703782160875,
          0.2955677525749074,
          0.4364956461090177,
          0.48974053800637685,
          0.47455949219092797,
          0.5155606749530051,
          0.5843746871612849,
          0.6682045457447965,
          0.6791579689779348,
          0.7168934760228054,
          0.758806757439846,
          0.8111486139931761,
          0.7267939073128156,
          0.8479518359178195,
          0.8331040727635564,
          0.9179552017019252,
          0.8167995883608965,
          0.7631732134669271,
          0.8293901751237662,
          0.668826618449853,
          0.6725936600492142,
          0.534655835186163,
          0.675978394714607,
          0.6075953017443994,
          0.4590270370924243,
          0.5776101614546454,
          0.6653121136506239,
          0.5694305233361725,
          0.6681275076018527,
          0.6261866242833296,
          0.6865585743247118,
          0.7135013259211933
         ]
        },
        {
         "line": {
          "color": "#ff7f0e"
         },
         "mode": "lines",
         "name": "1/N",
         "type": "scatter",
         "x": [
          "2018-04-30",
          "2018-05-31",
          "2018-06-29",
          "2018-07-31",
          "2018-08-31",
          "2018-09-28",
          "2018-10-31",
          "2018-11-30",
          "2018-12-31",
          "2019-01-31",
          "2019-02-28",
          "2019-03-29",
          "2019-04-30",
          "2019-05-31",
          "2019-06-28",
          "2019-07-31",
          "2019-08-30",
          "2019-09-30",
          "2019-10-31",
          "2019-11-29",
          "2019-12-31",
          "2020-01-31",
          "2020-02-28",
          "2020-03-31",
          "2020-04-30",
          "2020-05-29",
          "2020-06-30",
          "2020-07-31",
          "2020-08-31",
          "2020-09-30",
          "2020-10-30",
          "2020-11-30",
          "2020-12-31",
          "2021-01-29",
          "2021-02-26",
          "2021-03-31",
          "2021-04-30",
          "2021-05-28",
          "2021-06-30",
          "2021-07-30",
          "2021-08-31",
          "2021-09-30",
          "2021-10-29",
          "2021-11-30",
          "2021-12-31",
          "2022-01-31",
          "2022-02-28",
          "2022-03-31",
          "2022-04-29",
          "2022-05-31",
          "2022-06-30",
          "2022-07-29",
          "2022-08-31",
          "2022-09-30",
          "2022-10-31",
          "2022-11-30",
          "2022-12-30",
          "2023-01-31",
          "2023-02-28",
          "2023-03-31"
         ],
         "y": [
          0.03568124468656486,
          0.05850288911938817,
          0.10116690923292526,
          0.1360606191294489,
          0.14815158445410748,
          0.07349906835488174,
          0.09585122165323834,
          -0.0018997052070756082,
          0.10321509373293858,
          0.14771938515482663,
          0.1666781916409943,
          0.19596672862543407,
          0.13536606658609052,
          0.21984656222199295,
          0.2351526525495986,
          0.22420949136250634,
          0.24488566146879087,
          0.2570056669919314,
          0.3026536156003885,
          0.3334999026144758,
          0.3133415046521397,
          0.21403665073095235,
          0.05327700899085985,
          0.2409630346999907,
          0.3406019193192025,
          0.3551088814332979,
          0.42516059177363497,
          0.49290469209844656,
          0.4580519002093697,
          0.45591101258615074,
          0.6787263220856059,
          0.7469582771999024,
          0.7324097337164344,
          0.8536091838779456,
          0.959513385404499,
          1.0284851150511138,
          1.0599876679007236,
          1.062934760403346,
          1.0838891656461738,
          1.1271378696293661,
          1.0469846243798733,
          1.17255402680617,
          1.1238384539913318,
          1.276744993080242,
          1.1959802528990005,
          1.1580778438843509,
          1.223594191447475,
          1.0877467281514654,
          1.1220224143865467,
          0.9336120236884329,
          1.0924782263794337,
          1.011706937154111,
          0.8400598793068113,
          1.0079034873417125,
          1.1651500560835824,
          1.0640049924899238,
          1.2289636276554443,
          1.156013906888338,
          1.1476897552823657,
          1.1756301136557168
         ]
        },
        {
         "line": {
          "color": "#2ca02c"
         },
         "mode": "lines",
         "name": "HRP-24",
         "type": "scatter",
         "x": [
          "2018-04-30",
          "2018-05-31",
          "2018-06-29",
          "2018-07-31",
          "2018-08-31",
          "2018-09-28",
          "2018-10-31",
          "2018-11-30",
          "2018-12-31",
          "2019-01-31",
          "2019-02-28",
          "2019-03-29",
          "2019-04-30",
          "2019-05-31",
          "2019-06-28",
          "2019-07-31",
          "2019-08-30",
          "2019-09-30",
          "2019-10-31",
          "2019-11-29",
          "2019-12-31",
          "2020-01-31",
          "2020-02-28",
          "2020-03-31",
          "2020-04-30",
          "2020-05-29",
          "2020-06-30",
          "2020-07-31",
          "2020-08-31",
          "2020-09-30",
          "2020-10-30",
          "2020-11-30",
          "2020-12-31",
          "2021-01-29",
          "2021-02-26",
          "2021-03-31",
          "2021-04-30",
          "2021-05-28",
          "2021-06-30",
          "2021-07-30",
          "2021-08-31",
          "2021-09-30",
          "2021-10-29",
          "2021-11-30",
          "2021-12-31",
          "2022-01-31",
          "2022-02-28",
          "2022-03-31",
          "2022-04-29",
          "2022-05-31",
          "2022-06-30",
          "2022-07-29",
          "2022-08-31",
          "2022-09-30",
          "2022-10-31",
          "2022-11-30",
          "2022-12-30",
          "2023-01-31",
          "2023-02-28",
          "2023-03-31"
         ],
         "y": [
          0.02128832273603809,
          0.04177933189386529,
          0.08942546918284444,
          0.11786807649417419,
          0.12971775124730978,
          0.07601641226944089,
          0.09588234609298585,
          0.012189858204378234,
          0.08662219211188726,
          0.13230794627686593,
          0.15911572132032736,
          0.18597966728256066,
          0.1571331961908753,
          0.2264458361885413,
          0.23725757177305984,
          0.23945214159355976,
          0.2557557364933376,
          0.26190002603491047,
          0.2837557066835652,
          0.3070152365719221,
          0.29344628901356473,
          0.18776915554567286,
          0.04067337488392364,
          0.17881732952621232,
          0.26905215566125196,
          0.280830694997525,
          0.36481882115986575,
          0.418272308293812,
          0.38605998089945337,
          0.38656546034006856,
          0.5685386392194576,
          0.6210692117832008,
          0.5991984494872094,
          0.6397567206421713,
          0.7434592606589094,
          0.7863885803584723,
          0.7875463527014783,
          0.7930380495436609,
          0.8367613432931138,
          0.8926145703628663,
          0.8247070835637544,
          0.9469289180518685,
          0.9024964325035612,
          1.0558542697517979,
          0.9910546983787345,
          0.9365748320125173,
          1.0065248533783948,
          0.9093733016391681,
          0.9341632319930899,
          0.8108634700255577,
          0.9278924348952327,
          0.8450498289486654,
          0.7071944992692858,
          0.8523439658701475,
          0.9923097673970354,
          0.9332837794554076,
          1.0102283574990238,
          0.9377615933254067,
          0.9306126721150756,
          0.9932880348181572
         ]
        },
        {
         "line": {
          "color": "#d62728"
         },
         "mode": "lines",
         "name": "HRP-36",
         "type": "scatter",
         "x": [
          "2018-04-30",
          "2018-05-31",
          "2018-06-29",
          "2018-07-31",
          "2018-08-31",
          "2018-09-28",
          "2018-10-31",
          "2018-11-30",
          "2018-12-31",
          "2019-01-31",
          "2019-02-28",
          "2019-03-29",
          "2019-04-30",
          "2019-05-31",
          "2019-06-28",
          "2019-07-31",
          "2019-08-30",
          "2019-09-30",
          "2019-10-31",
          "2019-11-29",
          "2019-12-31",
          "2020-01-31",
          "2020-02-28",
          "2020-03-31",
          "2020-04-30",
          "2020-05-29",
          "2020-06-30",
          "2020-07-31",
          "2020-08-31",
          "2020-09-30",
          "2020-10-30",
          "2020-11-30",
          "2020-12-31",
          "2021-01-29",
          "2021-02-26",
          "2021-03-31",
          "2021-04-30",
          "2021-05-28",
          "2021-06-30",
          "2021-07-30",
          "2021-08-31",
          "2021-09-30",
          "2021-10-29",
          "2021-11-30",
          "2021-12-31",
          "2022-01-31",
          "2022-02-28",
          "2022-03-31",
          "2022-04-29",
          "2022-05-31",
          "2022-06-30",
          "2022-07-29",
          "2022-08-31",
          "2022-09-30",
          "2022-10-31",
          "2022-11-30",
          "2022-12-30",
          "2023-01-31",
          "2023-02-28",
          "2023-03-31"
         ],
         "y": [
          0.020131691812700803,
          0.046836378911260246,
          0.09659946238739736,
          0.12185484806555502,
          0.13101365510147822,
          0.07800121074728539,
          0.10027960512779743,
          0.015998802673964363,
          0.08980589079533252,
          0.12714364839241976,
          0.1556887602107646,
          0.180055813350962,
          0.14748696707915676,
          0.21506896139422782,
          0.22754458204701145,
          0.22491830737824214,
          0.24320077411837993,
          0.24704157588924502,
          0.2765892695970056,
          0.30271434459405566,
          0.29143894620619304,
          0.1852374953459186,
          0.04949064704036421,
          0.19932264997797677,
          0.28942671752786886,
          0.2997516675291769,
          0.38194237869571857,
          0.4378574337595169,
          0.4065127534295927,
          0.4055722940930544,
          0.5870766105471334,
          0.6335508081687362,
          0.6097679079090521,
          0.6610985620030669,
          0.7688946067236708,
          0.8237698266779188,
          0.8331429890867492,
          0.8425648777705239,
          0.8819703499447789,
          0.9331325219561786,
          0.8643271760245561,
          0.9811831132829918,
          0.930217775870327,
          1.083572510301289,
          1.0066035197261152,
          0.9489447281382233,
          1.0338117266772957,
          0.9325998456783358,
          0.9579355363543007,
          0.8296303969600287,
          0.9507762308242753,
          0.8639823067457504,
          0.7043189013231446,
          0.8530282425836608,
          0.9932714696031719,
          0.9379344499023246,
          1.0276817704112013,
          0.9632857853595862,
          0.9797073147180368,
          1.0408616475316306
         ]
        }
       ],
       "layout": {
        "legend": {
         "orientation": "h",
         "title": {
          "text": "Strategije:"
         },
         "x": 1,
         "xanchor": "right",
         "y": 1.02,
         "yanchor": "bottom"
        },
        "template": {
         "data": {
          "bar": [
           {
            "error_x": {
             "color": "#2a3f5f"
            },
            "error_y": {
             "color": "#2a3f5f"
            },
            "marker": {
             "line": {
              "color": "#E5ECF6",
              "width": 0.5
             },
             "pattern": {
              "fillmode": "overlay",
              "size": 10,
              "solidity": 0.2
             }
            },
            "type": "bar"
           }
          ],
          "barpolar": [
           {
            "marker": {
             "line": {
              "color": "#E5ECF6",
              "width": 0.5
             },
             "pattern": {
              "fillmode": "overlay",
              "size": 10,
              "solidity": 0.2
             }
            },
            "type": "barpolar"
           }
          ],
          "carpet": [
           {
            "aaxis": {
             "endlinecolor": "#2a3f5f",
             "gridcolor": "white",
             "linecolor": "white",
             "minorgridcolor": "white",
             "startlinecolor": "#2a3f5f"
            },
            "baxis": {
             "endlinecolor": "#2a3f5f",
             "gridcolor": "white",
             "linecolor": "white",
             "minorgridcolor": "white",
             "startlinecolor": "#2a3f5f"
            },
            "type": "carpet"
           }
          ],
          "choropleth": [
           {
            "colorbar": {
             "outlinewidth": 0,
             "ticks": ""
            },
            "type": "choropleth"
           }
          ],
          "contour": [
           {
            "colorbar": {
             "outlinewidth": 0,
             "ticks": ""
            },
            "colorscale": [
             [
              0,
              "#0d0887"
             ],
             [
              0.1111111111111111,
              "#46039f"
             ],
             [
              0.2222222222222222,
              "#7201a8"
             ],
             [
              0.3333333333333333,
              "#9c179e"
             ],
             [
              0.4444444444444444,
              "#bd3786"
             ],
             [
              0.5555555555555556,
              "#d8576b"
             ],
             [
              0.6666666666666666,
              "#ed7953"
             ],
             [
              0.7777777777777778,
              "#fb9f3a"
             ],
             [
              0.8888888888888888,
              "#fdca26"
             ],
             [
              1,
              "#f0f921"
             ]
            ],
            "type": "contour"
           }
          ],
          "contourcarpet": [
           {
            "colorbar": {
             "outlinewidth": 0,
             "ticks": ""
            },
            "type": "contourcarpet"
           }
          ],
          "heatmap": [
           {
            "colorbar": {
             "outlinewidth": 0,
             "ticks": ""
            },
            "colorscale": [
             [
              0,
              "#0d0887"
             ],
             [
              0.1111111111111111,
              "#46039f"
             ],
             [
              0.2222222222222222,
              "#7201a8"
             ],
             [
              0.3333333333333333,
              "#9c179e"
             ],
             [
              0.4444444444444444,
              "#bd3786"
             ],
             [
              0.5555555555555556,
              "#d8576b"
             ],
             [
              0.6666666666666666,
              "#ed7953"
             ],
             [
              0.7777777777777778,
              "#fb9f3a"
             ],
             [
              0.8888888888888888,
              "#fdca26"
             ],
             [
              1,
              "#f0f921"
             ]
            ],
            "type": "heatmap"
           }
          ],
          "heatmapgl": [
           {
            "colorbar": {
             "outlinewidth": 0,
             "ticks": ""
            },
            "colorscale": [
             [
              0,
              "#0d0887"
             ],
             [
              0.1111111111111111,
              "#46039f"
             ],
             [
              0.2222222222222222,
              "#7201a8"
             ],
             [
              0.3333333333333333,
              "#9c179e"
             ],
             [
              0.4444444444444444,
              "#bd3786"
             ],
             [
              0.5555555555555556,
              "#d8576b"
             ],
             [
              0.6666666666666666,
              "#ed7953"
             ],
             [
              0.7777777777777778,
              "#fb9f3a"
             ],
             [
              0.8888888888888888,
              "#fdca26"
             ],
             [
              1,
              "#f0f921"
             ]
            ],
            "type": "heatmapgl"
           }
          ],
          "histogram": [
           {
            "marker": {
             "pattern": {
              "fillmode": "overlay",
              "size": 10,
              "solidity": 0.2
             }
            },
            "type": "histogram"
           }
          ],
          "histogram2d": [
           {
            "colorbar": {
             "outlinewidth": 0,
             "ticks": ""
            },
            "colorscale": [
             [
              0,
              "#0d0887"
             ],
             [
              0.1111111111111111,
              "#46039f"
             ],
             [
              0.2222222222222222,
              "#7201a8"
             ],
             [
              0.3333333333333333,
              "#9c179e"
             ],
             [
              0.4444444444444444,
              "#bd3786"
             ],
             [
              0.5555555555555556,
              "#d8576b"
             ],
             [
              0.6666666666666666,
              "#ed7953"
             ],
             [
              0.7777777777777778,
              "#fb9f3a"
             ],
             [
              0.8888888888888888,
              "#fdca26"
             ],
             [
              1,
              "#f0f921"
             ]
            ],
            "type": "histogram2d"
           }
          ],
          "histogram2dcontour": [
           {
            "colorbar": {
             "outlinewidth": 0,
             "ticks": ""
            },
            "colorscale": [
             [
              0,
              "#0d0887"
             ],
             [
              0.1111111111111111,
              "#46039f"
             ],
             [
              0.2222222222222222,
              "#7201a8"
             ],
             [
              0.3333333333333333,
              "#9c179e"
             ],
             [
              0.4444444444444444,
              "#bd3786"
             ],
             [
              0.5555555555555556,
              "#d8576b"
             ],
             [
              0.6666666666666666,
              "#ed7953"
             ],
             [
              0.7777777777777778,
              "#fb9f3a"
             ],
             [
              0.8888888888888888,
              "#fdca26"
             ],
             [
              1,
              "#f0f921"
             ]
            ],
            "type": "histogram2dcontour"
           }
          ],
          "mesh3d": [
           {
            "colorbar": {
             "outlinewidth": 0,
             "ticks": ""
            },
            "type": "mesh3d"
           }
          ],
          "parcoords": [
           {
            "line": {
             "colorbar": {
              "outlinewidth": 0,
              "ticks": ""
             }
            },
            "type": "parcoords"
           }
          ],
          "pie": [
           {
            "automargin": true,
            "type": "pie"
           }
          ],
          "scatter": [
           {
            "fillpattern": {
             "fillmode": "overlay",
             "size": 10,
             "solidity": 0.2
            },
            "type": "scatter"
           }
          ],
          "scatter3d": [
           {
            "line": {
             "colorbar": {
              "outlinewidth": 0,
              "ticks": ""
             }
            },
            "marker": {
             "colorbar": {
              "outlinewidth": 0,
              "ticks": ""
             }
            },
            "type": "scatter3d"
           }
          ],
          "scattercarpet": [
           {
            "marker": {
             "colorbar": {
              "outlinewidth": 0,
              "ticks": ""
             }
            },
            "type": "scattercarpet"
           }
          ],
          "scattergeo": [
           {
            "marker": {
             "colorbar": {
              "outlinewidth": 0,
              "ticks": ""
             }
            },
            "type": "scattergeo"
           }
          ],
          "scattergl": [
           {
            "marker": {
             "colorbar": {
              "outlinewidth": 0,
              "ticks": ""
             }
            },
            "type": "scattergl"
           }
          ],
          "scattermapbox": [
           {
            "marker": {
             "colorbar": {
              "outlinewidth": 0,
              "ticks": ""
             }
            },
            "type": "scattermapbox"
           }
          ],
          "scatterpolar": [
           {
            "marker": {
             "colorbar": {
              "outlinewidth": 0,
              "ticks": ""
             }
            },
            "type": "scatterpolar"
           }
          ],
          "scatterpolargl": [
           {
            "marker": {
             "colorbar": {
              "outlinewidth": 0,
              "ticks": ""
             }
            },
            "type": "scatterpolargl"
           }
          ],
          "scatterternary": [
           {
            "marker": {
             "colorbar": {
              "outlinewidth": 0,
              "ticks": ""
             }
            },
            "type": "scatterternary"
           }
          ],
          "surface": [
           {
            "colorbar": {
             "outlinewidth": 0,
             "ticks": ""
            },
            "colorscale": [
             [
              0,
              "#0d0887"
             ],
             [
              0.1111111111111111,
              "#46039f"
             ],
             [
              0.2222222222222222,
              "#7201a8"
             ],
             [
              0.3333333333333333,
              "#9c179e"
             ],
             [
              0.4444444444444444,
              "#bd3786"
             ],
             [
              0.5555555555555556,
              "#d8576b"
             ],
             [
              0.6666666666666666,
              "#ed7953"
             ],
             [
              0.7777777777777778,
              "#fb9f3a"
             ],
             [
              0.8888888888888888,
              "#fdca26"
             ],
             [
              1,
              "#f0f921"
             ]
            ],
            "type": "surface"
           }
          ],
          "table": [
           {
            "cells": {
             "fill": {
              "color": "#EBF0F8"
             },
             "line": {
              "color": "white"
             }
            },
            "header": {
             "fill": {
              "color": "#C8D4E3"
             },
             "line": {
              "color": "white"
             }
            },
            "type": "table"
           }
          ]
         },
         "layout": {
          "annotationdefaults": {
           "arrowcolor": "#2a3f5f",
           "arrowhead": 0,
           "arrowwidth": 1
          },
          "autotypenumbers": "strict",
          "coloraxis": {
           "colorbar": {
            "outlinewidth": 0,
            "ticks": ""
           }
          },
          "colorscale": {
           "diverging": [
            [
             0,
             "#8e0152"
            ],
            [
             0.1,
             "#c51b7d"
            ],
            [
             0.2,
             "#de77ae"
            ],
            [
             0.3,
             "#f1b6da"
            ],
            [
             0.4,
             "#fde0ef"
            ],
            [
             0.5,
             "#f7f7f7"
            ],
            [
             0.6,
             "#e6f5d0"
            ],
            [
             0.7,
             "#b8e186"
            ],
            [
             0.8,
             "#7fbc41"
            ],
            [
             0.9,
             "#4d9221"
            ],
            [
             1,
             "#276419"
            ]
           ],
           "sequential": [
            [
             0,
             "#0d0887"
            ],
            [
             0.1111111111111111,
             "#46039f"
            ],
            [
             0.2222222222222222,
             "#7201a8"
            ],
            [
             0.3333333333333333,
             "#9c179e"
            ],
            [
             0.4444444444444444,
             "#bd3786"
            ],
            [
             0.5555555555555556,
             "#d8576b"
            ],
            [
             0.6666666666666666,
             "#ed7953"
            ],
            [
             0.7777777777777778,
             "#fb9f3a"
            ],
            [
             0.8888888888888888,
             "#fdca26"
            ],
            [
             1,
             "#f0f921"
            ]
           ],
           "sequentialminus": [
            [
             0,
             "#0d0887"
            ],
            [
             0.1111111111111111,
             "#46039f"
            ],
            [
             0.2222222222222222,
             "#7201a8"
            ],
            [
             0.3333333333333333,
             "#9c179e"
            ],
            [
             0.4444444444444444,
             "#bd3786"
            ],
            [
             0.5555555555555556,
             "#d8576b"
            ],
            [
             0.6666666666666666,
             "#ed7953"
            ],
            [
             0.7777777777777778,
             "#fb9f3a"
            ],
            [
             0.8888888888888888,
             "#fdca26"
            ],
            [
             1,
             "#f0f921"
            ]
           ]
          },
          "colorway": [
           "#636efa",
           "#EF553B",
           "#00cc96",
           "#ab63fa",
           "#FFA15A",
           "#19d3f3",
           "#FF6692",
           "#B6E880",
           "#FF97FF",
           "#FECB52"
          ],
          "font": {
           "color": "#2a3f5f"
          },
          "geo": {
           "bgcolor": "white",
           "lakecolor": "white",
           "landcolor": "#E5ECF6",
           "showlakes": true,
           "showland": true,
           "subunitcolor": "white"
          },
          "hoverlabel": {
           "align": "left"
          },
          "hovermode": "closest",
          "mapbox": {
           "style": "light"
          },
          "paper_bgcolor": "white",
          "plot_bgcolor": "#E5ECF6",
          "polar": {
           "angularaxis": {
            "gridcolor": "white",
            "linecolor": "white",
            "ticks": ""
           },
           "bgcolor": "#E5ECF6",
           "radialaxis": {
            "gridcolor": "white",
            "linecolor": "white",
            "ticks": ""
           }
          },
          "scene": {
           "xaxis": {
            "backgroundcolor": "#E5ECF6",
            "gridcolor": "white",
            "gridwidth": 2,
            "linecolor": "white",
            "showbackground": true,
            "ticks": "",
            "zerolinecolor": "white"
           },
           "yaxis": {
            "backgroundcolor": "#E5ECF6",
            "gridcolor": "white",
            "gridwidth": 2,
            "linecolor": "white",
            "showbackground": true,
            "ticks": "",
            "zerolinecolor": "white"
           },
           "zaxis": {
            "backgroundcolor": "#E5ECF6",
            "gridcolor": "white",
            "gridwidth": 2,
            "linecolor": "white",
            "showbackground": true,
            "ticks": "",
            "zerolinecolor": "white"
           }
          },
          "shapedefaults": {
           "line": {
            "color": "#2a3f5f"
           }
          },
          "ternary": {
           "aaxis": {
            "gridcolor": "white",
            "linecolor": "white",
            "ticks": ""
           },
           "baxis": {
            "gridcolor": "white",
            "linecolor": "white",
            "ticks": ""
           },
           "bgcolor": "#E5ECF6",
           "caxis": {
            "gridcolor": "white",
            "linecolor": "white",
            "ticks": ""
           }
          },
          "title": {
           "x": 0.05
          },
          "xaxis": {
           "automargin": true,
           "gridcolor": "white",
           "linecolor": "white",
           "ticks": "",
           "title": {
            "standoff": 15
           },
           "zerolinecolor": "white",
           "zerolinewidth": 2
          },
          "yaxis": {
           "automargin": true,
           "gridcolor": "white",
           "linecolor": "white",
           "ticks": "",
           "title": {
            "standoff": 15
           },
           "zerolinecolor": "white",
           "zerolinewidth": 2
          }
         }
        },
        "xaxis": {
         "title": {
          "text": "Vremenska oznaka"
         }
        },
        "yaxis": {
         "tickformat": ".0%",
         "title": {
          "text": "Kumulativni povrat"
         }
        }
       }
      }
     },
     "metadata": {},
     "output_type": "display_data"
    }
   ],
   "source": [
    "# Assuming your DataFrame is called 'df'\n",
    "\n",
    "# Rename the columns for better readability in the legend\n",
    "df = df.rename(columns={\n",
    "    'cumulative_benchmark': 'S&P500',\n",
    "    'cumulative_returns_assets50_SMAChoice-6_SimpleAllocator': '1/N',\n",
    "    'cumulative_returns_assets50_SMAChoice-6_HRP-24': 'HRP-24',\n",
    "    'cumulative_returns_assets50_SMAChoice-6_HRP-36': 'HRP-36',\n",
    "})[[\"timestamp\", \"S&P500\", \"1/N\", \"HRP-24\", \"HRP-36\"]]\n",
    "\n",
    "# Create the line chart\n",
    "fig = go.Figure()\n",
    "\n",
    "# Add each column to the chart\n",
    "for column in df.columns[1:]:\n",
    "    fig.add_trace(go.Scatter(\n",
    "        x=df['timestamp'],\n",
    "        y=df[column],\n",
    "        mode='lines',\n",
    "        name=column\n",
    "    ))\n",
    "\n",
    "# Define an eye-pleasing color scheme\n",
    "color_scheme = [\n",
    "    '#1f77b4',  # blue\n",
    "    '#ff7f0e',  # orange\n",
    "    '#2ca02c',  # green\n",
    "    '#d62728',  # red\n",
    "    '#9467bd',   # purple\n",
    "    '#e5b800'   # yellow\n",
    "]\n",
    "\n",
    "# Assign colors to each line\n",
    "for i, trace in enumerate(fig.data):\n",
    "    trace.line.color = color_scheme[i]\n",
    "\n",
    "# Set the title and axis labels\n",
    "fig.update_layout(\n",
    "    xaxis_title='Vremenska oznaka',\n",
    "    yaxis_title='Kumulativni povrat'\n",
    ")\n",
    "\n",
    "# Show the legend with the formatted names\n",
    "fig.update_layout(\n",
    "    legend=dict(\n",
    "        title='Strategije:',\n",
    "        orientation='h',\n",
    "        yanchor='bottom',\n",
    "        y=1.02,\n",
    "        xanchor='right',\n",
    "        x=1\n",
    "    )\n",
    ")\n",
    "\n",
    "fig.update_yaxes(tickformat='.0%')\n",
    "\n",
    "# Display the chart\n",
    "fig.show()\n"
   ]
  },
  {
   "cell_type": "code",
   "execution_count": 7,
   "metadata": {},
   "outputs": [],
   "source": [
    "returns_df = rel_results_df.copy(deep=True)\n",
    "\n",
    "returns_df = returns_df.rename(columns={\n",
    "    'benchmark': 'S&P500',\n",
    "    'returns_assets50_SMAChoice-6_SimpleAllocator': '1/N',\n",
    "    'returns_assets50_SMAChoice-6_HRP-24': 'HRP-24',\n",
    "    'returns_assets50_SMAChoice-6_HRP-36': 'HRP-36',\n",
    "})[[\"S&P500\", \"1/N\", \"HRP-24\", \"HRP-36\"]]"
   ]
  },
  {
   "cell_type": "code",
   "execution_count": 8,
   "metadata": {},
   "outputs": [
    {
     "name": "stdout",
     "output_type": "stream",
     "text": [
      "Metrics calculated monthly for the 5 year testing period\n"
     ]
    },
    {
     "data": {
      "text/html": [
       "<style type=\"text/css\">\n",
       "#T_8d588_row0_col1, #T_8d588_row1_col1, #T_8d588_row2_col1, #T_8d588_row3_col3, #T_8d588_row4_col3 {\n",
       "  background-color: darkblue;\n",
       "}\n",
       "</style>\n",
       "<table id=\"T_8d588\">\n",
       "  <thead>\n",
       "    <tr>\n",
       "      <th class=\"blank level0\" >&nbsp;</th>\n",
       "      <th id=\"T_8d588_level0_col0\" class=\"col_heading level0 col0\" >S&P500</th>\n",
       "      <th id=\"T_8d588_level0_col1\" class=\"col_heading level0 col1\" >1/N</th>\n",
       "      <th id=\"T_8d588_level0_col2\" class=\"col_heading level0 col2\" >HRP-24</th>\n",
       "      <th id=\"T_8d588_level0_col3\" class=\"col_heading level0 col3\" >HRP-36</th>\n",
       "    </tr>\n",
       "  </thead>\n",
       "  <tbody>\n",
       "    <tr>\n",
       "      <th id=\"T_8d588_level0_row0\" class=\"row_heading level0 row0\" >Cumulative Returns</th>\n",
       "      <td id=\"T_8d588_row0_col0\" class=\"data row0 col0\" >71.350133</td>\n",
       "      <td id=\"T_8d588_row0_col1\" class=\"data row0 col1\" >117.563011</td>\n",
       "      <td id=\"T_8d588_row0_col2\" class=\"data row0 col2\" >99.328803</td>\n",
       "      <td id=\"T_8d588_row0_col3\" class=\"data row0 col3\" >104.086165</td>\n",
       "    </tr>\n",
       "    <tr>\n",
       "      <th id=\"T_8d588_level0_row1\" class=\"row_heading level0 row1\" >Average Returns</th>\n",
       "      <td id=\"T_8d588_row1_col0\" class=\"data row1 col0\" >0.010443</td>\n",
       "      <td id=\"T_8d588_row1_col1\" class=\"data row1 col1\" >0.014653</td>\n",
       "      <td id=\"T_8d588_row1_col2\" class=\"data row1 col2\" >0.012764</td>\n",
       "      <td id=\"T_8d588_row1_col3\" class=\"data row1 col3\" >0.013182</td>\n",
       "    </tr>\n",
       "    <tr>\n",
       "      <th id=\"T_8d588_level0_row2\" class=\"row_heading level0 row2\" >Standard Deviation</th>\n",
       "      <td id=\"T_8d588_row2_col0\" class=\"data row2 col0\" >0.053662</td>\n",
       "      <td id=\"T_8d588_row2_col1\" class=\"data row2 col1\" >0.057649</td>\n",
       "      <td id=\"T_8d588_row2_col2\" class=\"data row2 col2\" >0.049556</td>\n",
       "      <td id=\"T_8d588_row2_col3\" class=\"data row2 col3\" >0.050023</td>\n",
       "    </tr>\n",
       "    <tr>\n",
       "      <th id=\"T_8d588_level0_row3\" class=\"row_heading level0 row3\" >Sharpe Ratio</th>\n",
       "      <td id=\"T_8d588_row3_col0\" class=\"data row3 col0\" >1.266889</td>\n",
       "      <td id=\"T_8d588_row3_col1\" class=\"data row3 col1\" >1.744854</td>\n",
       "      <td id=\"T_8d588_row3_col2\" class=\"data row3 col2\" >1.734558</td>\n",
       "      <td id=\"T_8d588_row3_col3\" class=\"data row3 col3\" >1.783122</td>\n",
       "    </tr>\n",
       "    <tr>\n",
       "      <th id=\"T_8d588_level0_row4\" class=\"row_heading level0 row4\" >Sortino Ratio</th>\n",
       "      <td id=\"T_8d588_row4_col0\" class=\"data row4 col0\" >1.875442</td>\n",
       "      <td id=\"T_8d588_row4_col1\" class=\"data row4 col1\" >2.960820</td>\n",
       "      <td id=\"T_8d588_row4_col2\" class=\"data row4 col2\" >2.868976</td>\n",
       "      <td id=\"T_8d588_row4_col3\" class=\"data row4 col3\" >2.965721</td>\n",
       "    </tr>\n",
       "  </tbody>\n",
       "</table>\n"
      ],
      "text/plain": [
       "<pandas.io.formats.style.Styler at 0x7fc6d438b7f0>"
      ]
     },
     "execution_count": 8,
     "metadata": {},
     "output_type": "execute_result"
    }
   ],
   "source": [
    "metrics_df = pd.DataFrame()\n",
    "\n",
    "for column in returns_df.columns:\n",
    "    returns = returns_df[column]\n",
    "    excess_returns = (((1 + returns).cumprod()).iloc[-1] * 100) - 100\n",
    "    avg_returns = returns.mean()\n",
    "    std_returns = returns.std()\n",
    "    sharpe_ratio = calc_sharpe_ratio(returns)\n",
    "    calmar_ratio = calc_sortino_ratio(returns)\n",
    "\n",
    "    metrics_df[column] = [excess_returns, avg_returns, std_returns, sharpe_ratio, calmar_ratio]\n",
    "\n",
    "metrics_df.index = ['Cumulative Returns', 'Average Returns', 'Standard Deviation', 'Sharpe Ratio', 'Sortino Ratio']\n",
    "print(\"Metrics calculated monthly for the 5 year testing period\")\n",
    "metrics_df.style.highlight_max(color = 'darkblue', axis = 1)"
   ]
  },
  {
   "cell_type": "code",
   "execution_count": 9,
   "metadata": {},
   "outputs": [
    {
     "name": "stdout",
     "output_type": "stream",
     "text": [
      "S&P500 & 71.35 & 0.0104 & 0.0537 & 1.2669 & 1.8754\\\\\n",
      "\\hline\n",
      "1/N & 117.56 & 0.0147 & 0.0576 & 1.7449 & 2.9608\\\\\n",
      "\\hline\n",
      "HRP-24 & 99.33 & 0.0128 & 0.0496 & 1.7346 & 2.8690\\\\\n",
      "\\hline\n",
      "HRP-36 & 104.09 & 0.0132 & 0.0500 & 1.7831 & 2.9657\\\\\n",
      "\\hline\n"
     ]
    }
   ],
   "source": [
    "for col in metrics_df.columns:\n",
    "    print(f\"{col} & {metrics_df[col].iloc[0]:.2f} & {metrics_df[col].iloc[1]:.4f} & {metrics_df[col].iloc[2]:.4f} & {metrics_df[col].iloc[3]:.4f} & {metrics_df[col].iloc[4]:.4f}\\\\\\\\\")\n",
    "    print(\"\\hline\")"
   ]
  },
  {
   "cell_type": "code",
   "execution_count": 10,
   "metadata": {},
   "outputs": [],
   "source": [
    "returns_df = rel_results_df.copy(deep=True)\n",
    "\n",
    "returns_df = returns_df.rename(columns={\n",
    "    'benchmark': 'S&P500',\n",
    "    'returns_assets50_SMAChoice-6_SimpleAllocator': '1/N',\n",
    "    'returns_assets50_SMAChoice-6_HRP-24': 'HRP-24',\n",
    "    'returns_assets50_SMAChoice-6_HRP-36': 'HRP-36',\n",
    "})[[\"timestamp\", \"S&P500\", \"1/N\", \"HRP-24\", \"HRP-36\"]]"
   ]
  },
  {
   "cell_type": "code",
   "execution_count": 11,
   "metadata": {},
   "outputs": [],
   "source": [
    "sharpe_df = pd.DataFrame()\n",
    "calmar_df = pd.DataFrame()\n",
    "cumret_df = pd.DataFrame()\n",
    "std_df = pd.DataFrame()\n",
    "    \n",
    "for column in returns_df.columns[1:]:\n",
    "    sharpe_ratio = []\n",
    "    calmar_ratio = []\n",
    "    cumret = []\n",
    "    std = []\n",
    "    timestamp = []\n",
    "    for i in range(len(returns_df)//12):\n",
    "        timestamp.append(returns_df['timestamp'][i*12:(i+1)*12].iloc[-1])\n",
    "        returns = returns_df[column][i*12:(i+1)*12]\n",
    "        cumret.append(((1 + returns).cumprod()).iloc[-1] - 1)\n",
    "        std.append(returns.std())\n",
    "        sharpe_ratio.append(calc_sharpe_ratio(returns))\n",
    "        calmar_ratio.append(calc_sortino_ratio(returns))\n",
    "\n",
    "    sharpe_df[column] = sharpe_ratio\n",
    "    calmar_df[column] = calmar_ratio\n",
    "    cumret_df[column] = cumret\n",
    "    std_df[column] = std\n",
    "\n",
    "sharpe_df['timestamp'] = timestamp\n",
    "calmar_df['timestamp'] = timestamp\n",
    "cumret_df['timestamp'] = timestamp\n",
    "std_df['timestamp'] = timestamp"
   ]
  },
  {
   "cell_type": "code",
   "execution_count": 12,
   "metadata": {},
   "outputs": [
    {
     "data": {
      "application/vnd.plotly.v1+json": {
       "config": {
        "plotlyServerURL": "https://plot.ly"
       },
       "data": [
        {
         "line": {
          "color": "#1f77b4"
         },
         "mode": "lines",
         "name": "S&P500",
         "showlegend": true,
         "type": "scatter",
         "x": [
          "2019-03-29",
          "2020-03-31",
          "2021-03-31",
          "2022-03-31",
          "2023-03-31"
         ],
         "xaxis": "x",
         "y": [
          0.732077514475646,
          0.05885970119801946,
          2.595630038186862,
          -0.0457712083479772,
          0.13064358655907002
         ],
         "yaxis": "y"
        },
        {
         "line": {
          "color": "#ff7f0e"
         },
         "mode": "lines",
         "name": "1/N",
         "showlegend": true,
         "type": "scatter",
         "x": [
          "2019-03-29",
          "2020-03-31",
          "2021-03-31",
          "2022-03-31",
          "2023-03-31"
         ],
         "xaxis": "x",
         "y": [
          1.0041756065829217,
          0.18373829198628683,
          3.0082323781142173,
          0.12679338111456018,
          0.19757433877793323
         ],
         "yaxis": "y"
        },
        {
         "line": {
          "color": "#2ca02c"
         },
         "mode": "lines",
         "name": "HRP-24",
         "showlegend": true,
         "type": "scatter",
         "x": [
          "2019-03-29",
          "2020-03-31",
          "2021-03-31",
          "2022-03-31",
          "2023-03-31"
         ],
         "xaxis": "x",
         "y": [
          1.1563087528301914,
          -0.015964553819246902,
          2.7615841317897964,
          0.38819025119603306,
          0.20803776420949463
         ],
         "yaxis": "y"
        },
        {
         "line": {
          "color": "#d62728"
         },
         "mode": "lines",
         "name": "HRP-36",
         "showlegend": true,
         "type": "scatter",
         "x": [
          "2019-03-29",
          "2020-03-31",
          "2021-03-31",
          "2022-03-31",
          "2023-03-31"
         ],
         "xaxis": "x",
         "y": [
          1.1287792914096266,
          0.08477938840797881,
          2.8227271905886733,
          0.3266809920285157,
          0.26549264291221913
         ],
         "yaxis": "y"
        },
        {
         "line": {
          "color": "#1f77b4"
         },
         "mode": "lines",
         "name": "S&P500",
         "showlegend": false,
         "type": "scatter",
         "x": [
          "2019-03-29",
          "2020-03-31",
          "2021-03-31",
          "2022-03-31",
          "2023-03-31"
         ],
         "xaxis": "x2",
         "y": [
          1.0325766290212934,
          0.08371227895689726,
          7.666060172233467,
          -0.06192562114375329,
          0.19428712977704463
         ],
         "yaxis": "y2"
        },
        {
         "line": {
          "color": "#ff7f0e"
         },
         "mode": "lines",
         "name": "1/N",
         "showlegend": false,
         "type": "scatter",
         "x": [
          "2019-03-29",
          "2020-03-31",
          "2021-03-31",
          "2022-03-31",
          "2023-03-31"
         ],
         "xaxis": "x2",
         "y": [
          1.5458238456894318,
          0.2983007823331424,
          18.187048670117303,
          0.1996454891326977,
          0.31123681598279035
         ],
         "yaxis": "y2"
        },
        {
         "line": {
          "color": "#2ca02c"
         },
         "mode": "lines",
         "name": "HRP-24",
         "showlegend": false,
         "type": "scatter",
         "x": [
          "2019-03-29",
          "2020-03-31",
          "2021-03-31",
          "2022-03-31",
          "2023-03-31"
         ],
         "xaxis": "x2",
         "y": [
          1.7428715879297252,
          -0.023012306679528534,
          14.360851524346874,
          0.6993557741507599,
          0.3289163500385798
         ],
         "yaxis": "y2"
        },
        {
         "line": {
          "color": "#d62728"
         },
         "mode": "lines",
         "name": "HRP-36",
         "showlegend": false,
         "type": "scatter",
         "x": [
          "2019-03-29",
          "2020-03-31",
          "2021-03-31",
          "2022-03-31",
          "2023-03-31"
         ],
         "xaxis": "x2",
         "y": [
          1.6890256849494127,
          0.12913215458605698,
          14.533613290928411,
          0.563009286395361,
          0.4127707619607626
         ],
         "yaxis": "y2"
        },
        {
         "line": {
          "color": "#1f77b4"
         },
         "mode": "lines",
         "name": "S&P500",
         "showlegend": false,
         "type": "scatter",
         "x": [
          "2019-03-29",
          "2020-03-31",
          "2021-03-31",
          "2022-03-31",
          "2023-03-31"
         ],
         "xaxis": "x3",
         "y": [
          0.1332529170472223,
          0.008415299712122515,
          0.4597652752082577,
          0.0003728995383951439,
          0.02677013116727367
         ],
         "yaxis": "y3"
        },
        {
         "line": {
          "color": "#ff7f0e"
         },
         "mode": "lines",
         "name": "1/N",
         "showlegend": false,
         "type": "scatter",
         "x": [
          "2019-03-29",
          "2020-03-31",
          "2021-03-31",
          "2022-03-31",
          "2023-03-31"
         ],
         "xaxis": "x3",
         "y": [
          0.19596672862543407,
          0.03762337613377631,
          0.6346055912467297,
          0.02921471430114897,
          0.042094850069321454
         ],
         "yaxis": "y3"
        },
        {
         "line": {
          "color": "#2ca02c"
         },
         "mode": "lines",
         "name": "HRP-24",
         "showlegend": false,
         "type": "scatter",
         "x": [
          "2019-03-29",
          "2020-03-31",
          "2021-03-31",
          "2022-03-31",
          "2023-03-31"
         ],
         "xaxis": "x3",
         "y": [
          0.18597966728256066,
          -0.006039174156129978,
          0.515407464425768,
          0.06884544753192312,
          0.04394883551946038
         ],
         "yaxis": "y3"
        },
        {
         "line": {
          "color": "#d62728"
         },
         "mode": "lines",
         "name": "HRP-36",
         "showlegend": false,
         "type": "scatter",
         "x": [
          "2019-03-29",
          "2020-03-31",
          "2021-03-31",
          "2022-03-31",
          "2023-03-31"
         ],
         "xaxis": "x3",
         "y": [
          0.180055813350962,
          0.01632705538927337,
          0.5206665418279304,
          0.05967311083255278,
          0.05601873667504864
         ],
         "yaxis": "y3"
        },
        {
         "line": {
          "color": "#1f77b4"
         },
         "mode": "lines",
         "name": "S&P500",
         "showlegend": false,
         "type": "scatter",
         "x": [
          "2019-03-29",
          "2020-03-31",
          "2021-03-31",
          "2022-03-31",
          "2023-03-31"
         ],
         "xaxis": "x4",
         "y": [
          0.04649091253146141,
          0.06760377264007206,
          0.04154318721862052,
          0.04679024122456507,
          0.06362181991390767
         ],
         "yaxis": "y4"
        },
        {
         "line": {
          "color": "#ff7f0e"
         },
         "mode": "lines",
         "name": "1/N",
         "showlegend": false,
         "type": "scatter",
         "x": [
          "2019-03-29",
          "2020-03-31",
          "2021-03-31",
          "2022-03-31",
          "2023-03-31"
         ],
         "xaxis": "x4",
         "y": [
          0.05008755583713012,
          0.07712709085873592,
          0.04732632431766056,
          0.04015707604848635,
          0.06578173739742989
         ],
         "yaxis": "y4"
        },
        {
         "line": {
          "color": "#2ca02c"
         },
         "mode": "lines",
         "name": "HRP-24",
         "showlegend": false,
         "type": "scatter",
         "x": [
          "2019-03-29",
          "2020-03-31",
          "2021-03-31",
          "2022-03-31",
          "2023-03-31"
         ],
         "xaxis": "x4",
         "y": [
          0.040140190154563035,
          0.06382087061378657,
          0.04313898831849519,
          0.0418098422196132,
          0.05502769771342627
         ],
         "yaxis": "y4"
        },
        {
         "line": {
          "color": "#d62728"
         },
         "mode": "lines",
         "name": "HRP-36",
         "showlegend": false,
         "type": "scatter",
         "x": [
          "2019-03-29",
          "2020-03-31",
          "2021-03-31",
          "2022-03-31",
          "2023-03-31"
         ],
         "xaxis": "x4",
         "y": [
          0.039780861686872095,
          0.06450071250659078,
          0.04254609361564089,
          0.04221064550757091,
          0.05722124714135176
         ],
         "yaxis": "y4"
        }
       ],
       "layout": {
        "height": 800,
        "legend": {
         "orientation": "h",
         "title": {
          "text": "Strategije:"
         },
         "x": 1,
         "xanchor": "right",
         "y": 1.02,
         "yanchor": "bottom"
        },
        "template": {
         "data": {
          "bar": [
           {
            "error_x": {
             "color": "#2a3f5f"
            },
            "error_y": {
             "color": "#2a3f5f"
            },
            "marker": {
             "line": {
              "color": "#E5ECF6",
              "width": 0.5
             },
             "pattern": {
              "fillmode": "overlay",
              "size": 10,
              "solidity": 0.2
             }
            },
            "type": "bar"
           }
          ],
          "barpolar": [
           {
            "marker": {
             "line": {
              "color": "#E5ECF6",
              "width": 0.5
             },
             "pattern": {
              "fillmode": "overlay",
              "size": 10,
              "solidity": 0.2
             }
            },
            "type": "barpolar"
           }
          ],
          "carpet": [
           {
            "aaxis": {
             "endlinecolor": "#2a3f5f",
             "gridcolor": "white",
             "linecolor": "white",
             "minorgridcolor": "white",
             "startlinecolor": "#2a3f5f"
            },
            "baxis": {
             "endlinecolor": "#2a3f5f",
             "gridcolor": "white",
             "linecolor": "white",
             "minorgridcolor": "white",
             "startlinecolor": "#2a3f5f"
            },
            "type": "carpet"
           }
          ],
          "choropleth": [
           {
            "colorbar": {
             "outlinewidth": 0,
             "ticks": ""
            },
            "type": "choropleth"
           }
          ],
          "contour": [
           {
            "colorbar": {
             "outlinewidth": 0,
             "ticks": ""
            },
            "colorscale": [
             [
              0,
              "#0d0887"
             ],
             [
              0.1111111111111111,
              "#46039f"
             ],
             [
              0.2222222222222222,
              "#7201a8"
             ],
             [
              0.3333333333333333,
              "#9c179e"
             ],
             [
              0.4444444444444444,
              "#bd3786"
             ],
             [
              0.5555555555555556,
              "#d8576b"
             ],
             [
              0.6666666666666666,
              "#ed7953"
             ],
             [
              0.7777777777777778,
              "#fb9f3a"
             ],
             [
              0.8888888888888888,
              "#fdca26"
             ],
             [
              1,
              "#f0f921"
             ]
            ],
            "type": "contour"
           }
          ],
          "contourcarpet": [
           {
            "colorbar": {
             "outlinewidth": 0,
             "ticks": ""
            },
            "type": "contourcarpet"
           }
          ],
          "heatmap": [
           {
            "colorbar": {
             "outlinewidth": 0,
             "ticks": ""
            },
            "colorscale": [
             [
              0,
              "#0d0887"
             ],
             [
              0.1111111111111111,
              "#46039f"
             ],
             [
              0.2222222222222222,
              "#7201a8"
             ],
             [
              0.3333333333333333,
              "#9c179e"
             ],
             [
              0.4444444444444444,
              "#bd3786"
             ],
             [
              0.5555555555555556,
              "#d8576b"
             ],
             [
              0.6666666666666666,
              "#ed7953"
             ],
             [
              0.7777777777777778,
              "#fb9f3a"
             ],
             [
              0.8888888888888888,
              "#fdca26"
             ],
             [
              1,
              "#f0f921"
             ]
            ],
            "type": "heatmap"
           }
          ],
          "heatmapgl": [
           {
            "colorbar": {
             "outlinewidth": 0,
             "ticks": ""
            },
            "colorscale": [
             [
              0,
              "#0d0887"
             ],
             [
              0.1111111111111111,
              "#46039f"
             ],
             [
              0.2222222222222222,
              "#7201a8"
             ],
             [
              0.3333333333333333,
              "#9c179e"
             ],
             [
              0.4444444444444444,
              "#bd3786"
             ],
             [
              0.5555555555555556,
              "#d8576b"
             ],
             [
              0.6666666666666666,
              "#ed7953"
             ],
             [
              0.7777777777777778,
              "#fb9f3a"
             ],
             [
              0.8888888888888888,
              "#fdca26"
             ],
             [
              1,
              "#f0f921"
             ]
            ],
            "type": "heatmapgl"
           }
          ],
          "histogram": [
           {
            "marker": {
             "pattern": {
              "fillmode": "overlay",
              "size": 10,
              "solidity": 0.2
             }
            },
            "type": "histogram"
           }
          ],
          "histogram2d": [
           {
            "colorbar": {
             "outlinewidth": 0,
             "ticks": ""
            },
            "colorscale": [
             [
              0,
              "#0d0887"
             ],
             [
              0.1111111111111111,
              "#46039f"
             ],
             [
              0.2222222222222222,
              "#7201a8"
             ],
             [
              0.3333333333333333,
              "#9c179e"
             ],
             [
              0.4444444444444444,
              "#bd3786"
             ],
             [
              0.5555555555555556,
              "#d8576b"
             ],
             [
              0.6666666666666666,
              "#ed7953"
             ],
             [
              0.7777777777777778,
              "#fb9f3a"
             ],
             [
              0.8888888888888888,
              "#fdca26"
             ],
             [
              1,
              "#f0f921"
             ]
            ],
            "type": "histogram2d"
           }
          ],
          "histogram2dcontour": [
           {
            "colorbar": {
             "outlinewidth": 0,
             "ticks": ""
            },
            "colorscale": [
             [
              0,
              "#0d0887"
             ],
             [
              0.1111111111111111,
              "#46039f"
             ],
             [
              0.2222222222222222,
              "#7201a8"
             ],
             [
              0.3333333333333333,
              "#9c179e"
             ],
             [
              0.4444444444444444,
              "#bd3786"
             ],
             [
              0.5555555555555556,
              "#d8576b"
             ],
             [
              0.6666666666666666,
              "#ed7953"
             ],
             [
              0.7777777777777778,
              "#fb9f3a"
             ],
             [
              0.8888888888888888,
              "#fdca26"
             ],
             [
              1,
              "#f0f921"
             ]
            ],
            "type": "histogram2dcontour"
           }
          ],
          "mesh3d": [
           {
            "colorbar": {
             "outlinewidth": 0,
             "ticks": ""
            },
            "type": "mesh3d"
           }
          ],
          "parcoords": [
           {
            "line": {
             "colorbar": {
              "outlinewidth": 0,
              "ticks": ""
             }
            },
            "type": "parcoords"
           }
          ],
          "pie": [
           {
            "automargin": true,
            "type": "pie"
           }
          ],
          "scatter": [
           {
            "fillpattern": {
             "fillmode": "overlay",
             "size": 10,
             "solidity": 0.2
            },
            "type": "scatter"
           }
          ],
          "scatter3d": [
           {
            "line": {
             "colorbar": {
              "outlinewidth": 0,
              "ticks": ""
             }
            },
            "marker": {
             "colorbar": {
              "outlinewidth": 0,
              "ticks": ""
             }
            },
            "type": "scatter3d"
           }
          ],
          "scattercarpet": [
           {
            "marker": {
             "colorbar": {
              "outlinewidth": 0,
              "ticks": ""
             }
            },
            "type": "scattercarpet"
           }
          ],
          "scattergeo": [
           {
            "marker": {
             "colorbar": {
              "outlinewidth": 0,
              "ticks": ""
             }
            },
            "type": "scattergeo"
           }
          ],
          "scattergl": [
           {
            "marker": {
             "colorbar": {
              "outlinewidth": 0,
              "ticks": ""
             }
            },
            "type": "scattergl"
           }
          ],
          "scattermapbox": [
           {
            "marker": {
             "colorbar": {
              "outlinewidth": 0,
              "ticks": ""
             }
            },
            "type": "scattermapbox"
           }
          ],
          "scatterpolar": [
           {
            "marker": {
             "colorbar": {
              "outlinewidth": 0,
              "ticks": ""
             }
            },
            "type": "scatterpolar"
           }
          ],
          "scatterpolargl": [
           {
            "marker": {
             "colorbar": {
              "outlinewidth": 0,
              "ticks": ""
             }
            },
            "type": "scatterpolargl"
           }
          ],
          "scatterternary": [
           {
            "marker": {
             "colorbar": {
              "outlinewidth": 0,
              "ticks": ""
             }
            },
            "type": "scatterternary"
           }
          ],
          "surface": [
           {
            "colorbar": {
             "outlinewidth": 0,
             "ticks": ""
            },
            "colorscale": [
             [
              0,
              "#0d0887"
             ],
             [
              0.1111111111111111,
              "#46039f"
             ],
             [
              0.2222222222222222,
              "#7201a8"
             ],
             [
              0.3333333333333333,
              "#9c179e"
             ],
             [
              0.4444444444444444,
              "#bd3786"
             ],
             [
              0.5555555555555556,
              "#d8576b"
             ],
             [
              0.6666666666666666,
              "#ed7953"
             ],
             [
              0.7777777777777778,
              "#fb9f3a"
             ],
             [
              0.8888888888888888,
              "#fdca26"
             ],
             [
              1,
              "#f0f921"
             ]
            ],
            "type": "surface"
           }
          ],
          "table": [
           {
            "cells": {
             "fill": {
              "color": "#EBF0F8"
             },
             "line": {
              "color": "white"
             }
            },
            "header": {
             "fill": {
              "color": "#C8D4E3"
             },
             "line": {
              "color": "white"
             }
            },
            "type": "table"
           }
          ]
         },
         "layout": {
          "annotationdefaults": {
           "arrowcolor": "#2a3f5f",
           "arrowhead": 0,
           "arrowwidth": 1
          },
          "autotypenumbers": "strict",
          "coloraxis": {
           "colorbar": {
            "outlinewidth": 0,
            "ticks": ""
           }
          },
          "colorscale": {
           "diverging": [
            [
             0,
             "#8e0152"
            ],
            [
             0.1,
             "#c51b7d"
            ],
            [
             0.2,
             "#de77ae"
            ],
            [
             0.3,
             "#f1b6da"
            ],
            [
             0.4,
             "#fde0ef"
            ],
            [
             0.5,
             "#f7f7f7"
            ],
            [
             0.6,
             "#e6f5d0"
            ],
            [
             0.7,
             "#b8e186"
            ],
            [
             0.8,
             "#7fbc41"
            ],
            [
             0.9,
             "#4d9221"
            ],
            [
             1,
             "#276419"
            ]
           ],
           "sequential": [
            [
             0,
             "#0d0887"
            ],
            [
             0.1111111111111111,
             "#46039f"
            ],
            [
             0.2222222222222222,
             "#7201a8"
            ],
            [
             0.3333333333333333,
             "#9c179e"
            ],
            [
             0.4444444444444444,
             "#bd3786"
            ],
            [
             0.5555555555555556,
             "#d8576b"
            ],
            [
             0.6666666666666666,
             "#ed7953"
            ],
            [
             0.7777777777777778,
             "#fb9f3a"
            ],
            [
             0.8888888888888888,
             "#fdca26"
            ],
            [
             1,
             "#f0f921"
            ]
           ],
           "sequentialminus": [
            [
             0,
             "#0d0887"
            ],
            [
             0.1111111111111111,
             "#46039f"
            ],
            [
             0.2222222222222222,
             "#7201a8"
            ],
            [
             0.3333333333333333,
             "#9c179e"
            ],
            [
             0.4444444444444444,
             "#bd3786"
            ],
            [
             0.5555555555555556,
             "#d8576b"
            ],
            [
             0.6666666666666666,
             "#ed7953"
            ],
            [
             0.7777777777777778,
             "#fb9f3a"
            ],
            [
             0.8888888888888888,
             "#fdca26"
            ],
            [
             1,
             "#f0f921"
            ]
           ]
          },
          "colorway": [
           "#636efa",
           "#EF553B",
           "#00cc96",
           "#ab63fa",
           "#FFA15A",
           "#19d3f3",
           "#FF6692",
           "#B6E880",
           "#FF97FF",
           "#FECB52"
          ],
          "font": {
           "color": "#2a3f5f"
          },
          "geo": {
           "bgcolor": "white",
           "lakecolor": "white",
           "landcolor": "#E5ECF6",
           "showlakes": true,
           "showland": true,
           "subunitcolor": "white"
          },
          "hoverlabel": {
           "align": "left"
          },
          "hovermode": "closest",
          "mapbox": {
           "style": "light"
          },
          "paper_bgcolor": "white",
          "plot_bgcolor": "#E5ECF6",
          "polar": {
           "angularaxis": {
            "gridcolor": "white",
            "linecolor": "white",
            "ticks": ""
           },
           "bgcolor": "#E5ECF6",
           "radialaxis": {
            "gridcolor": "white",
            "linecolor": "white",
            "ticks": ""
           }
          },
          "scene": {
           "xaxis": {
            "backgroundcolor": "#E5ECF6",
            "gridcolor": "white",
            "gridwidth": 2,
            "linecolor": "white",
            "showbackground": true,
            "ticks": "",
            "zerolinecolor": "white"
           },
           "yaxis": {
            "backgroundcolor": "#E5ECF6",
            "gridcolor": "white",
            "gridwidth": 2,
            "linecolor": "white",
            "showbackground": true,
            "ticks": "",
            "zerolinecolor": "white"
           },
           "zaxis": {
            "backgroundcolor": "#E5ECF6",
            "gridcolor": "white",
            "gridwidth": 2,
            "linecolor": "white",
            "showbackground": true,
            "ticks": "",
            "zerolinecolor": "white"
           }
          },
          "shapedefaults": {
           "line": {
            "color": "#2a3f5f"
           }
          },
          "ternary": {
           "aaxis": {
            "gridcolor": "white",
            "linecolor": "white",
            "ticks": ""
           },
           "baxis": {
            "gridcolor": "white",
            "linecolor": "white",
            "ticks": ""
           },
           "bgcolor": "#E5ECF6",
           "caxis": {
            "gridcolor": "white",
            "linecolor": "white",
            "ticks": ""
           }
          },
          "title": {
           "x": 0.05
          },
          "xaxis": {
           "automargin": true,
           "gridcolor": "white",
           "linecolor": "white",
           "ticks": "",
           "title": {
            "standoff": 15
           },
           "zerolinecolor": "white",
           "zerolinewidth": 2
          },
          "yaxis": {
           "automargin": true,
           "gridcolor": "white",
           "linecolor": "white",
           "ticks": "",
           "title": {
            "standoff": 15
           },
           "zerolinecolor": "white",
           "zerolinewidth": 2
          }
         }
        },
        "width": 1200,
        "xaxis": {
         "anchor": "y",
         "domain": [
          0,
          0.45
         ],
         "title": {
          "text": "Vremeska oznaka"
         }
        },
        "xaxis2": {
         "anchor": "y2",
         "domain": [
          0.55,
          1
         ],
         "title": {
          "text": "Vremenska oznaka"
         }
        },
        "xaxis3": {
         "anchor": "y3",
         "domain": [
          0,
          0.45
         ],
         "title": {
          "text": "Vremenska oznaka"
         }
        },
        "xaxis4": {
         "anchor": "y4",
         "domain": [
          0.55,
          1
         ],
         "title": {
          "text": "Vremenska oznaka"
         }
        },
        "yaxis": {
         "anchor": "x",
         "domain": [
          0.575,
          1
         ],
         "title": {
          "text": "Sharpe-ov omjer"
         }
        },
        "yaxis2": {
         "anchor": "x2",
         "domain": [
          0.575,
          1
         ],
         "title": {
          "text": "Sortino-ov omjer"
         }
        },
        "yaxis3": {
         "anchor": "x3",
         "domain": [
          0,
          0.425
         ],
         "tickformat": ".0%",
         "title": {
          "text": "Kumulativni povrat"
         }
        },
        "yaxis4": {
         "anchor": "x4",
         "domain": [
          0,
          0.425
         ],
         "title": {
          "text": "Standardna devijacija"
         }
        }
       }
      }
     },
     "metadata": {},
     "output_type": "display_data"
    }
   ],
   "source": [
    "from plotly.subplots import make_subplots\n",
    "\n",
    "# Assuming you have the 'sharpe_df' and 'calmar_df' dataframes\n",
    "\n",
    "# Define the color scheme\n",
    "color_scheme = [\n",
    "    '#1f77b4',  # blue\n",
    "    '#ff7f0e',  # orange\n",
    "    '#2ca02c',  # green\n",
    "    '#d62728',  # red\n",
    "    '#9467bd',  # purple\n",
    "    '#e5b800'   # yellow\n",
    "]\n",
    "\n",
    "# Create subplots with two charts side by side\n",
    "fig = make_subplots(rows=2, cols=2)\n",
    "\n",
    "# Add lines to the first subplot\n",
    "for i, column in enumerate(sharpe_df.columns[:-1]):\n",
    "    fig.add_trace(go.Scatter(\n",
    "        x=sharpe_df['timestamp'],\n",
    "        y=sharpe_df[column],\n",
    "        mode='lines',\n",
    "        name=column,\n",
    "        line=dict(color=color_scheme[i]),\n",
    "        showlegend=True\n",
    "    ), row=1, col=1)\n",
    "\n",
    "# Add lines to the second subplot\n",
    "for i, column in enumerate(calmar_df.columns[:-1]):\n",
    "    fig.add_trace(go.Scatter(\n",
    "        x=calmar_df['timestamp'],\n",
    "        y=calmar_df[column],\n",
    "        mode='lines',\n",
    "        name=column,\n",
    "        line=dict(color=color_scheme[i]),\n",
    "        showlegend=False\n",
    "    ), row=1, col=2)\n",
    "\n",
    "# Add lines to the third subplot\n",
    "for i, column in enumerate(sharpe_df.columns[:-1]):\n",
    "    fig.add_trace(go.Scatter(\n",
    "        x=cumret_df['timestamp'],\n",
    "        y=cumret_df[column],\n",
    "        mode='lines',\n",
    "        name=column,\n",
    "        line=dict(color=color_scheme[i]),\n",
    "        showlegend=False\n",
    "    ), row=2, col=1)\n",
    "\n",
    "# Add lines to the fourth subplot\n",
    "for i, column in enumerate(calmar_df.columns[:-1]):\n",
    "    fig.add_trace(go.Scatter(\n",
    "        x=std_df['timestamp'],\n",
    "        y=std_df[column],\n",
    "        mode='lines',\n",
    "        name=column,\n",
    "        line=dict(color=color_scheme[i]),\n",
    "        showlegend=False\n",
    "    ), row=2, col=2)\n",
    "\n",
    "# Update layout and axis labels\n",
    "fig.update_layout(height=800, width=1200)\n",
    "fig.update_xaxes(title_text='Vremeska oznaka', row=1, col=1)\n",
    "fig.update_xaxes(title_text='Vremenska oznaka', row=1, col=2)\n",
    "fig.update_xaxes(title_text='Vremenska oznaka', row=2, col=1)\n",
    "fig.update_xaxes(title_text='Vremenska oznaka', row=2, col=2)\n",
    "fig.update_yaxes(title_text='Sharpe-ov omjer', row=1, col=1)\n",
    "fig.update_yaxes(title_text='Sortino-ov omjer', row=1, col=2)\n",
    "fig.update_yaxes(title_text='Kumulativni povrat', row=2, col=1, tickformat='.0%')\n",
    "fig.update_yaxes(title_text='Standardna devijacija', row=2, col=2)\n",
    "\n",
    "# Show the legend with the formatted names\n",
    "fig.update_layout(\n",
    "    legend=dict(\n",
    "        title='Strategije:',\n",
    "        orientation='h',\n",
    "        yanchor='bottom',\n",
    "        y=1.02,\n",
    "        xanchor='right',\n",
    "        x=1\n",
    "    )\n",
    ")\n",
    "\n",
    "# Display the chart\n",
    "fig.show()"
   ]
  }
 ],
 "metadata": {
  "kernelspec": {
   "display_name": "thesis_venv",
   "language": "python",
   "name": "python3"
  },
  "language_info": {
   "codemirror_mode": {
    "name": "ipython",
    "version": 3
   },
   "file_extension": ".py",
   "mimetype": "text/x-python",
   "name": "python",
   "nbconvert_exporter": "python",
   "pygments_lexer": "ipython3",
   "version": "3.10.10"
  },
  "orig_nbformat": 4
 },
 "nbformat": 4,
 "nbformat_minor": 2
}
