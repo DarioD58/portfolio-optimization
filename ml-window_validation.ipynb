{
 "cells": [
  {
   "cell_type": "code",
   "execution_count": 12,
   "metadata": {},
   "outputs": [],
   "source": [
    "from portfolio_optimizer import PortfolioOptimizer, calc_sharpe_ratio, calc_calmar_ratio\n",
    "import pandas as pd\n",
    "from portfolio_optimizer.stock_choice import MLChoice\n",
    "from portfolio_optimizer.weight_allocators import SimpleAllocator\n",
    "import matplotlib.pyplot as plt\n",
    "import seaborn as sns\n",
    "import numpy as np\n",
    "import plotly.graph_objects as go\n",
    "pd.options.mode.chained_assignment = None"
   ]
  },
  {
   "attachments": {},
   "cell_type": "markdown",
   "metadata": {},
   "source": [
    "## Machine learning model performance comparison\n",
    "\n",
    "For 50 assets over 5 year testing period, and 7 jear training period"
   ]
  },
  {
   "cell_type": "code",
   "execution_count": 13,
   "metadata": {},
   "outputs": [],
   "source": [
    "results_df = pd.read_csv(\"experiments/results/final_results.csv\")"
   ]
  },
  {
   "cell_type": "code",
   "execution_count": 14,
   "metadata": {},
   "outputs": [],
   "source": [
    "relevant_results = ([\n",
    "    key for key in results_df.columns \n",
    "    if (\"50\" in key\n",
    "        and \"60\" in key \n",
    "        and \"xgboost\" in key)\n",
    "        or key == \"timestamp\"\n",
    "        or key == \"benchmark\"\n",
    "    ]\n",
    ")\n",
    "\n",
    "rel_results_df = results_df[relevant_results]"
   ]
  },
  {
   "cell_type": "code",
   "execution_count": 15,
   "metadata": {},
   "outputs": [
    {
     "data": {
      "text/plain": [
       "Index(['timestamp', 'benchmark',\n",
       "       'returns_assets50_MLChoice-xgboost-60-fixed_SimpleAllocator',\n",
       "       'correct_assets50_MLChoice-xgboost-60-fixed_SimpleAllocator',\n",
       "       'returns_assets50_MLChoice-xgboost-60-fixed_HRP-24',\n",
       "       'correct_assets50_MLChoice-xgboost-60-fixed_HRP-24',\n",
       "       'returns_assets50_MLChoice-xgboost-60-fixed_HRP-36',\n",
       "       'correct_assets50_MLChoice-xgboost-60-fixed_HRP-36',\n",
       "       'returns_assets50_MLChoice-xgboost-60-rolling_SimpleAllocator',\n",
       "       'correct_assets50_MLChoice-xgboost-60-rolling_SimpleAllocator',\n",
       "       'alloc_assets50_MLChoice-xgboost-60-rolling_SimpleAllocator',\n",
       "       'returns_assets50_MLChoice-xgboost-60-rolling_HRP-24',\n",
       "       'correct_assets50_MLChoice-xgboost-60-rolling_HRP-24',\n",
       "       'alloc_assets50_MLChoice-xgboost-60-rolling_HRP-24',\n",
       "       'returns_assets50_MLChoice-xgboost-60-rolling_HRP-36',\n",
       "       'correct_assets50_MLChoice-xgboost-60-rolling_HRP-36',\n",
       "       'alloc_assets50_MLChoice-xgboost-60-rolling_HRP-36',\n",
       "       'returns_assets50_MLChoice-xgboost-60-expanding_SimpleAllocator',\n",
       "       'correct_assets50_MLChoice-xgboost-60-expanding_SimpleAllocator',\n",
       "       'alloc_assets50_MLChoice-xgboost-60-expanding_SimpleAllocator',\n",
       "       'returns_assets50_MLChoice-xgboost-60-expanding_HRP-24',\n",
       "       'correct_assets50_MLChoice-xgboost-60-expanding_HRP-24',\n",
       "       'alloc_assets50_MLChoice-xgboost-60-expanding_HRP-24',\n",
       "       'returns_assets50_MLChoice-xgboost-60-expanding_HRP-36',\n",
       "       'correct_assets50_MLChoice-xgboost-60-expanding_HRP-36',\n",
       "       'alloc_assets50_MLChoice-xgboost-60-expanding_HRP-36'],\n",
       "      dtype='object')"
      ]
     },
     "execution_count": 15,
     "metadata": {},
     "output_type": "execute_result"
    }
   ],
   "source": [
    "rel_results_df.columns"
   ]
  },
  {
   "cell_type": "code",
   "execution_count": 16,
   "metadata": {},
   "outputs": [],
   "source": [
    "for key in rel_results_df.columns:\n",
    "    if key == \"timestamp\" or \"correct\" in key or \"alloc\" in key:\n",
    "        continue\n",
    "    else:\n",
    "        rel_results_df.loc[:, f'cumulative_{key}'] = ((1 + rel_results_df.loc[:, key]).cumprod()) - 1\n",
    "        # print(investment, np.std(results[key]), np.mean(results[key]))"
   ]
  },
  {
   "cell_type": "code",
   "execution_count": 17,
   "metadata": {},
   "outputs": [],
   "source": [
    "df = rel_results_df.copy(deep=True)"
   ]
  },
  {
   "cell_type": "code",
   "execution_count": 18,
   "metadata": {},
   "outputs": [
    {
     "data": {
      "application/vnd.plotly.v1+json": {
       "config": {
        "plotlyServerURL": "https://plot.ly"
       },
       "data": [
        {
         "line": {
          "color": "#1f77b4"
         },
         "mode": "lines",
         "name": "S&P500",
         "type": "scatter",
         "x": [
          "2018-04-30",
          "2018-05-31",
          "2018-06-29",
          "2018-07-31",
          "2018-08-31",
          "2018-09-28",
          "2018-10-31",
          "2018-11-30",
          "2018-12-31",
          "2019-01-31",
          "2019-02-28",
          "2019-03-29",
          "2019-04-30",
          "2019-05-31",
          "2019-06-28",
          "2019-07-31",
          "2019-08-30",
          "2019-09-30",
          "2019-10-31",
          "2019-11-29",
          "2019-12-31",
          "2020-01-31",
          "2020-02-28",
          "2020-03-31",
          "2020-04-30",
          "2020-05-29",
          "2020-06-30",
          "2020-07-31",
          "2020-08-31",
          "2020-09-30",
          "2020-10-30",
          "2020-11-30",
          "2020-12-31",
          "2021-01-29",
          "2021-02-26",
          "2021-03-31",
          "2021-04-30",
          "2021-05-28",
          "2021-06-30",
          "2021-07-30",
          "2021-08-31",
          "2021-09-30",
          "2021-10-29",
          "2021-11-30",
          "2021-12-31",
          "2022-01-31",
          "2022-02-28",
          "2022-03-31",
          "2022-04-29",
          "2022-05-31",
          "2022-06-30",
          "2022-07-29",
          "2022-08-31",
          "2022-09-30",
          "2022-10-31",
          "2022-11-30",
          "2022-12-30",
          "2023-01-31",
          "2023-02-28",
          "2023-03-31"
         ],
         "y": [
          0.02430903583262367,
          0.03020430762689963,
          0.06836990997248438,
          0.10247185326993913,
          0.1090299826684773,
          0.03239103737421023,
          0.051541401410333254,
          -0.04092744036856377,
          0.03586146152480296,
          0.0694397926314454,
          0.08877389469833363,
          0.1332529170472223,
          0.060984135498146186,
          0.1348208698389075,
          0.15197854137545597,
          0.13269057980059884,
          0.15475397436483695,
          0.18027955370609083,
          0.22300358948309884,
          0.2585115818814525,
          0.25800321253175773,
          0.158412668201662,
          0.014025061702608754,
          0.14278957999381214,
          0.197238244370757,
          0.21850200772935646,
          0.2902624199287378,
          0.380318361155638,
          0.32869703782160875,
          0.2955677525749074,
          0.4364956461090177,
          0.48974053800637685,
          0.47455949219092797,
          0.5155606749530051,
          0.5843746871612849,
          0.6682045457447965,
          0.6791579689779348,
          0.7168934760228054,
          0.758806757439846,
          0.8111486139931761,
          0.7267939073128156,
          0.8479518359178195,
          0.8331040727635564,
          0.9179552017019252,
          0.8167995883608965,
          0.7631732134669271,
          0.8293901751237662,
          0.668826618449853,
          0.6725936600492142,
          0.534655835186163,
          0.675978394714607,
          0.6075953017443994,
          0.4590270370924243,
          0.5776101614546454,
          0.6653121136506239,
          0.5694305233361725,
          0.6681275076018527,
          0.6261866242833296,
          0.6865585743247118,
          0.7135013259211933
         ]
        },
        {
         "line": {
          "color": "#ff7f0e"
         },
         "mode": "lines",
         "name": "Fiksni",
         "type": "scatter",
         "x": [
          "2018-04-30",
          "2018-05-31",
          "2018-06-29",
          "2018-07-31",
          "2018-08-31",
          "2018-09-28",
          "2018-10-31",
          "2018-11-30",
          "2018-12-31",
          "2019-01-31",
          "2019-02-28",
          "2019-03-29",
          "2019-04-30",
          "2019-05-31",
          "2019-06-28",
          "2019-07-31",
          "2019-08-30",
          "2019-09-30",
          "2019-10-31",
          "2019-11-29",
          "2019-12-31",
          "2020-01-31",
          "2020-02-28",
          "2020-03-31",
          "2020-04-30",
          "2020-05-29",
          "2020-06-30",
          "2020-07-31",
          "2020-08-31",
          "2020-09-30",
          "2020-10-30",
          "2020-11-30",
          "2020-12-31",
          "2021-01-29",
          "2021-02-26",
          "2021-03-31",
          "2021-04-30",
          "2021-05-28",
          "2021-06-30",
          "2021-07-30",
          "2021-08-31",
          "2021-09-30",
          "2021-10-29",
          "2021-11-30",
          "2021-12-31",
          "2022-01-31",
          "2022-02-28",
          "2022-03-31",
          "2022-04-29",
          "2022-05-31",
          "2022-06-30",
          "2022-07-29",
          "2022-08-31",
          "2022-09-30",
          "2022-10-31",
          "2022-11-30",
          "2022-12-30",
          "2023-01-31",
          "2023-02-28",
          "2023-03-31"
         ],
         "y": [
          0.04771325224520284,
          0.05946527291404968,
          0.08601465383912554,
          0.1523671186263682,
          0.15899923969552776,
          0.03700037462880168,
          0.08870412691330753,
          -0.012725046727175227,
          0.13314869981389688,
          0.19180727406777542,
          0.20961444923711903,
          0.24415917435249468,
          0.16849398847238306,
          0.2760959826100391,
          0.29345722792634854,
          0.22832144307963964,
          0.27300750670819207,
          0.2755061672599226,
          0.3694456256152683,
          0.4412956856348129,
          0.45568226843852067,
          0.3643535799496078,
          -0.04859110467902661,
          0.19135465437232546,
          0.27244676272113266,
          0.3335433046695335,
          0.40350723909446606,
          0.5478482485747143,
          0.49044189872578303,
          0.4697646714514516,
          0.875331438305402,
          0.991357076816652,
          0.989902406391842,
          1.208427339317573,
          1.26024896338278,
          1.3667847252915637,
          1.4727968135531508,
          1.5398857761399705,
          1.5029007939379442,
          1.5475918471762387,
          1.4775753573549606,
          1.6411855217095828,
          1.5897870666440537,
          1.7643938490232114,
          1.5561063883426023,
          1.506276074608858,
          1.5819605259288356,
          1.3551059848131906,
          1.421466958220846,
          1.144797986564928,
          1.4444432740830595,
          1.3892355073531792,
          1.1269943698509572,
          1.334511436573894,
          1.5392533528968881,
          1.3356916703721642,
          1.6747147399839313,
          1.6002433738868436,
          1.5633535841272486,
          1.5546319305734015
         ]
        },
        {
         "line": {
          "color": "#2ca02c"
         },
         "mode": "lines",
         "name": "Pomični",
         "type": "scatter",
         "x": [
          "2018-04-30",
          "2018-05-31",
          "2018-06-29",
          "2018-07-31",
          "2018-08-31",
          "2018-09-28",
          "2018-10-31",
          "2018-11-30",
          "2018-12-31",
          "2019-01-31",
          "2019-02-28",
          "2019-03-29",
          "2019-04-30",
          "2019-05-31",
          "2019-06-28",
          "2019-07-31",
          "2019-08-30",
          "2019-09-30",
          "2019-10-31",
          "2019-11-29",
          "2019-12-31",
          "2020-01-31",
          "2020-02-28",
          "2020-03-31",
          "2020-04-30",
          "2020-05-29",
          "2020-06-30",
          "2020-07-31",
          "2020-08-31",
          "2020-09-30",
          "2020-10-30",
          "2020-11-30",
          "2020-12-31",
          "2021-01-29",
          "2021-02-26",
          "2021-03-31",
          "2021-04-30",
          "2021-05-28",
          "2021-06-30",
          "2021-07-30",
          "2021-08-31",
          "2021-09-30",
          "2021-10-29",
          "2021-11-30",
          "2021-12-31",
          "2022-01-31",
          "2022-02-28",
          "2022-03-31",
          "2022-04-29",
          "2022-05-31",
          "2022-06-30",
          "2022-07-29",
          "2022-08-31",
          "2022-09-30",
          "2022-10-31",
          "2022-11-30",
          "2022-12-30",
          "2023-01-31",
          "2023-02-28",
          "2023-03-31"
         ],
         "y": [
          0.04771325224520284,
          0.05946527291404968,
          0.08601465383912554,
          0.1523671186263682,
          0.15899923969552776,
          0.03700037462880168,
          0.08870412691330753,
          -0.012725046727175227,
          0.13314869981389688,
          0.19180727406777542,
          0.20961444923711903,
          0.24832318745021076,
          0.20054263154222784,
          0.31566124717311617,
          0.3381266061076016,
          0.35835277657026143,
          0.4009237793694045,
          0.4231186553199262,
          0.5044353161023938,
          0.5566897607600789,
          0.5564495918757972,
          0.48513669763498846,
          0.15146868351095488,
          0.4692167641231315,
          0.5322827179342844,
          0.6184225621659021,
          0.6713722054826394,
          0.7644241075974687,
          0.6804204788491883,
          0.6851619262003559,
          0.9984137269410136,
          1.0946439119397668,
          1.1153959679601946,
          1.3581543968649,
          1.3449021050401595,
          1.4605865776875158,
          1.5010676707520214,
          1.4972808389840728,
          1.4321846508406422,
          1.49018203856228,
          1.5228120704334507,
          1.6484052129751734,
          1.537076189480763,
          1.6955006835305477,
          1.7355627816924315,
          1.76668203327475,
          1.9347815045268892,
          1.7698396993254062,
          1.8071648039009607,
          1.413428275991393,
          1.6415533761855512,
          1.5855798389475457,
          1.2959033094243,
          1.588699359729873,
          1.7740845626587243,
          1.5808158944547173,
          1.750958135674638,
          1.6586716351785906,
          1.6351884479339676,
          1.6568030384853754
         ]
        },
        {
         "line": {
          "color": "#d62728"
         },
         "mode": "lines",
         "name": "Povećavajući",
         "type": "scatter",
         "x": [
          "2018-04-30",
          "2018-05-31",
          "2018-06-29",
          "2018-07-31",
          "2018-08-31",
          "2018-09-28",
          "2018-10-31",
          "2018-11-30",
          "2018-12-31",
          "2019-01-31",
          "2019-02-28",
          "2019-03-29",
          "2019-04-30",
          "2019-05-31",
          "2019-06-28",
          "2019-07-31",
          "2019-08-30",
          "2019-09-30",
          "2019-10-31",
          "2019-11-29",
          "2019-12-31",
          "2020-01-31",
          "2020-02-28",
          "2020-03-31",
          "2020-04-30",
          "2020-05-29",
          "2020-06-30",
          "2020-07-31",
          "2020-08-31",
          "2020-09-30",
          "2020-10-30",
          "2020-11-30",
          "2020-12-31",
          "2021-01-29",
          "2021-02-26",
          "2021-03-31",
          "2021-04-30",
          "2021-05-28",
          "2021-06-30",
          "2021-07-30",
          "2021-08-31",
          "2021-09-30",
          "2021-10-29",
          "2021-11-30",
          "2021-12-31",
          "2022-01-31",
          "2022-02-28",
          "2022-03-31",
          "2022-04-29",
          "2022-05-31",
          "2022-06-30",
          "2022-07-29",
          "2022-08-31",
          "2022-09-30",
          "2022-10-31",
          "2022-11-30",
          "2022-12-30",
          "2023-01-31",
          "2023-02-28",
          "2023-03-31"
         ],
         "y": [
          0.0010705681106257803,
          0.03324795704039274,
          0.0801774119008436,
          0.12184112854868712,
          0.12057206835582157,
          0.04245748249342696,
          0.1030136725710249,
          0.001571881638189332,
          0.15122424900638043,
          0.2362936062006067,
          0.2553956707419698,
          0.30783885519843857,
          0.26414465784105223,
          0.38622035680061173,
          0.42035753402641207,
          0.4489994707070526,
          0.48827340159589494,
          0.48381620341207565,
          0.5245938393794383,
          0.600623973376228,
          0.6224725360844714,
          0.4798635465697576,
          0.15142411082375218,
          0.4884381792451171,
          0.5713410515645543,
          0.6502827673910223,
          0.6802524326816886,
          0.8024706626992391,
          0.7475105765791328,
          0.762217565561718,
          1.1142212754663396,
          1.2306350281362146,
          1.2807465577105073,
          1.5851909471909584,
          1.5903524236531164,
          1.677075062951305,
          1.8372941196534138,
          1.7901261995367763,
          1.705503497016407,
          1.7288210552288854,
          1.7915657540188294,
          1.9075710818697447,
          1.7780523166590814,
          1.9442499327751488,
          2.001861583175972,
          2.035428531030327,
          2.071455613588658,
          1.9383859827194763,
          2.0427386671659633,
          1.6311205709192804,
          1.741102070193353,
          1.7818934716028516,
          1.4749584218867082,
          1.756904369020805,
          1.931134415610272,
          1.7530816200729213,
          2.1257963041783805,
          2.0091271679538054,
          1.9887771837359791,
          1.9896237364675526
         ]
        }
       ],
       "layout": {
        "legend": {
         "orientation": "h",
         "title": {
          "text": "Veličina portfelja:"
         },
         "x": 1,
         "xanchor": "right",
         "y": 1.02,
         "yanchor": "bottom"
        },
        "template": {
         "data": {
          "bar": [
           {
            "error_x": {
             "color": "#2a3f5f"
            },
            "error_y": {
             "color": "#2a3f5f"
            },
            "marker": {
             "line": {
              "color": "#E5ECF6",
              "width": 0.5
             },
             "pattern": {
              "fillmode": "overlay",
              "size": 10,
              "solidity": 0.2
             }
            },
            "type": "bar"
           }
          ],
          "barpolar": [
           {
            "marker": {
             "line": {
              "color": "#E5ECF6",
              "width": 0.5
             },
             "pattern": {
              "fillmode": "overlay",
              "size": 10,
              "solidity": 0.2
             }
            },
            "type": "barpolar"
           }
          ],
          "carpet": [
           {
            "aaxis": {
             "endlinecolor": "#2a3f5f",
             "gridcolor": "white",
             "linecolor": "white",
             "minorgridcolor": "white",
             "startlinecolor": "#2a3f5f"
            },
            "baxis": {
             "endlinecolor": "#2a3f5f",
             "gridcolor": "white",
             "linecolor": "white",
             "minorgridcolor": "white",
             "startlinecolor": "#2a3f5f"
            },
            "type": "carpet"
           }
          ],
          "choropleth": [
           {
            "colorbar": {
             "outlinewidth": 0,
             "ticks": ""
            },
            "type": "choropleth"
           }
          ],
          "contour": [
           {
            "colorbar": {
             "outlinewidth": 0,
             "ticks": ""
            },
            "colorscale": [
             [
              0,
              "#0d0887"
             ],
             [
              0.1111111111111111,
              "#46039f"
             ],
             [
              0.2222222222222222,
              "#7201a8"
             ],
             [
              0.3333333333333333,
              "#9c179e"
             ],
             [
              0.4444444444444444,
              "#bd3786"
             ],
             [
              0.5555555555555556,
              "#d8576b"
             ],
             [
              0.6666666666666666,
              "#ed7953"
             ],
             [
              0.7777777777777778,
              "#fb9f3a"
             ],
             [
              0.8888888888888888,
              "#fdca26"
             ],
             [
              1,
              "#f0f921"
             ]
            ],
            "type": "contour"
           }
          ],
          "contourcarpet": [
           {
            "colorbar": {
             "outlinewidth": 0,
             "ticks": ""
            },
            "type": "contourcarpet"
           }
          ],
          "heatmap": [
           {
            "colorbar": {
             "outlinewidth": 0,
             "ticks": ""
            },
            "colorscale": [
             [
              0,
              "#0d0887"
             ],
             [
              0.1111111111111111,
              "#46039f"
             ],
             [
              0.2222222222222222,
              "#7201a8"
             ],
             [
              0.3333333333333333,
              "#9c179e"
             ],
             [
              0.4444444444444444,
              "#bd3786"
             ],
             [
              0.5555555555555556,
              "#d8576b"
             ],
             [
              0.6666666666666666,
              "#ed7953"
             ],
             [
              0.7777777777777778,
              "#fb9f3a"
             ],
             [
              0.8888888888888888,
              "#fdca26"
             ],
             [
              1,
              "#f0f921"
             ]
            ],
            "type": "heatmap"
           }
          ],
          "heatmapgl": [
           {
            "colorbar": {
             "outlinewidth": 0,
             "ticks": ""
            },
            "colorscale": [
             [
              0,
              "#0d0887"
             ],
             [
              0.1111111111111111,
              "#46039f"
             ],
             [
              0.2222222222222222,
              "#7201a8"
             ],
             [
              0.3333333333333333,
              "#9c179e"
             ],
             [
              0.4444444444444444,
              "#bd3786"
             ],
             [
              0.5555555555555556,
              "#d8576b"
             ],
             [
              0.6666666666666666,
              "#ed7953"
             ],
             [
              0.7777777777777778,
              "#fb9f3a"
             ],
             [
              0.8888888888888888,
              "#fdca26"
             ],
             [
              1,
              "#f0f921"
             ]
            ],
            "type": "heatmapgl"
           }
          ],
          "histogram": [
           {
            "marker": {
             "pattern": {
              "fillmode": "overlay",
              "size": 10,
              "solidity": 0.2
             }
            },
            "type": "histogram"
           }
          ],
          "histogram2d": [
           {
            "colorbar": {
             "outlinewidth": 0,
             "ticks": ""
            },
            "colorscale": [
             [
              0,
              "#0d0887"
             ],
             [
              0.1111111111111111,
              "#46039f"
             ],
             [
              0.2222222222222222,
              "#7201a8"
             ],
             [
              0.3333333333333333,
              "#9c179e"
             ],
             [
              0.4444444444444444,
              "#bd3786"
             ],
             [
              0.5555555555555556,
              "#d8576b"
             ],
             [
              0.6666666666666666,
              "#ed7953"
             ],
             [
              0.7777777777777778,
              "#fb9f3a"
             ],
             [
              0.8888888888888888,
              "#fdca26"
             ],
             [
              1,
              "#f0f921"
             ]
            ],
            "type": "histogram2d"
           }
          ],
          "histogram2dcontour": [
           {
            "colorbar": {
             "outlinewidth": 0,
             "ticks": ""
            },
            "colorscale": [
             [
              0,
              "#0d0887"
             ],
             [
              0.1111111111111111,
              "#46039f"
             ],
             [
              0.2222222222222222,
              "#7201a8"
             ],
             [
              0.3333333333333333,
              "#9c179e"
             ],
             [
              0.4444444444444444,
              "#bd3786"
             ],
             [
              0.5555555555555556,
              "#d8576b"
             ],
             [
              0.6666666666666666,
              "#ed7953"
             ],
             [
              0.7777777777777778,
              "#fb9f3a"
             ],
             [
              0.8888888888888888,
              "#fdca26"
             ],
             [
              1,
              "#f0f921"
             ]
            ],
            "type": "histogram2dcontour"
           }
          ],
          "mesh3d": [
           {
            "colorbar": {
             "outlinewidth": 0,
             "ticks": ""
            },
            "type": "mesh3d"
           }
          ],
          "parcoords": [
           {
            "line": {
             "colorbar": {
              "outlinewidth": 0,
              "ticks": ""
             }
            },
            "type": "parcoords"
           }
          ],
          "pie": [
           {
            "automargin": true,
            "type": "pie"
           }
          ],
          "scatter": [
           {
            "fillpattern": {
             "fillmode": "overlay",
             "size": 10,
             "solidity": 0.2
            },
            "type": "scatter"
           }
          ],
          "scatter3d": [
           {
            "line": {
             "colorbar": {
              "outlinewidth": 0,
              "ticks": ""
             }
            },
            "marker": {
             "colorbar": {
              "outlinewidth": 0,
              "ticks": ""
             }
            },
            "type": "scatter3d"
           }
          ],
          "scattercarpet": [
           {
            "marker": {
             "colorbar": {
              "outlinewidth": 0,
              "ticks": ""
             }
            },
            "type": "scattercarpet"
           }
          ],
          "scattergeo": [
           {
            "marker": {
             "colorbar": {
              "outlinewidth": 0,
              "ticks": ""
             }
            },
            "type": "scattergeo"
           }
          ],
          "scattergl": [
           {
            "marker": {
             "colorbar": {
              "outlinewidth": 0,
              "ticks": ""
             }
            },
            "type": "scattergl"
           }
          ],
          "scattermapbox": [
           {
            "marker": {
             "colorbar": {
              "outlinewidth": 0,
              "ticks": ""
             }
            },
            "type": "scattermapbox"
           }
          ],
          "scatterpolar": [
           {
            "marker": {
             "colorbar": {
              "outlinewidth": 0,
              "ticks": ""
             }
            },
            "type": "scatterpolar"
           }
          ],
          "scatterpolargl": [
           {
            "marker": {
             "colorbar": {
              "outlinewidth": 0,
              "ticks": ""
             }
            },
            "type": "scatterpolargl"
           }
          ],
          "scatterternary": [
           {
            "marker": {
             "colorbar": {
              "outlinewidth": 0,
              "ticks": ""
             }
            },
            "type": "scatterternary"
           }
          ],
          "surface": [
           {
            "colorbar": {
             "outlinewidth": 0,
             "ticks": ""
            },
            "colorscale": [
             [
              0,
              "#0d0887"
             ],
             [
              0.1111111111111111,
              "#46039f"
             ],
             [
              0.2222222222222222,
              "#7201a8"
             ],
             [
              0.3333333333333333,
              "#9c179e"
             ],
             [
              0.4444444444444444,
              "#bd3786"
             ],
             [
              0.5555555555555556,
              "#d8576b"
             ],
             [
              0.6666666666666666,
              "#ed7953"
             ],
             [
              0.7777777777777778,
              "#fb9f3a"
             ],
             [
              0.8888888888888888,
              "#fdca26"
             ],
             [
              1,
              "#f0f921"
             ]
            ],
            "type": "surface"
           }
          ],
          "table": [
           {
            "cells": {
             "fill": {
              "color": "#EBF0F8"
             },
             "line": {
              "color": "white"
             }
            },
            "header": {
             "fill": {
              "color": "#C8D4E3"
             },
             "line": {
              "color": "white"
             }
            },
            "type": "table"
           }
          ]
         },
         "layout": {
          "annotationdefaults": {
           "arrowcolor": "#2a3f5f",
           "arrowhead": 0,
           "arrowwidth": 1
          },
          "autotypenumbers": "strict",
          "coloraxis": {
           "colorbar": {
            "outlinewidth": 0,
            "ticks": ""
           }
          },
          "colorscale": {
           "diverging": [
            [
             0,
             "#8e0152"
            ],
            [
             0.1,
             "#c51b7d"
            ],
            [
             0.2,
             "#de77ae"
            ],
            [
             0.3,
             "#f1b6da"
            ],
            [
             0.4,
             "#fde0ef"
            ],
            [
             0.5,
             "#f7f7f7"
            ],
            [
             0.6,
             "#e6f5d0"
            ],
            [
             0.7,
             "#b8e186"
            ],
            [
             0.8,
             "#7fbc41"
            ],
            [
             0.9,
             "#4d9221"
            ],
            [
             1,
             "#276419"
            ]
           ],
           "sequential": [
            [
             0,
             "#0d0887"
            ],
            [
             0.1111111111111111,
             "#46039f"
            ],
            [
             0.2222222222222222,
             "#7201a8"
            ],
            [
             0.3333333333333333,
             "#9c179e"
            ],
            [
             0.4444444444444444,
             "#bd3786"
            ],
            [
             0.5555555555555556,
             "#d8576b"
            ],
            [
             0.6666666666666666,
             "#ed7953"
            ],
            [
             0.7777777777777778,
             "#fb9f3a"
            ],
            [
             0.8888888888888888,
             "#fdca26"
            ],
            [
             1,
             "#f0f921"
            ]
           ],
           "sequentialminus": [
            [
             0,
             "#0d0887"
            ],
            [
             0.1111111111111111,
             "#46039f"
            ],
            [
             0.2222222222222222,
             "#7201a8"
            ],
            [
             0.3333333333333333,
             "#9c179e"
            ],
            [
             0.4444444444444444,
             "#bd3786"
            ],
            [
             0.5555555555555556,
             "#d8576b"
            ],
            [
             0.6666666666666666,
             "#ed7953"
            ],
            [
             0.7777777777777778,
             "#fb9f3a"
            ],
            [
             0.8888888888888888,
             "#fdca26"
            ],
            [
             1,
             "#f0f921"
            ]
           ]
          },
          "colorway": [
           "#636efa",
           "#EF553B",
           "#00cc96",
           "#ab63fa",
           "#FFA15A",
           "#19d3f3",
           "#FF6692",
           "#B6E880",
           "#FF97FF",
           "#FECB52"
          ],
          "font": {
           "color": "#2a3f5f"
          },
          "geo": {
           "bgcolor": "white",
           "lakecolor": "white",
           "landcolor": "#E5ECF6",
           "showlakes": true,
           "showland": true,
           "subunitcolor": "white"
          },
          "hoverlabel": {
           "align": "left"
          },
          "hovermode": "closest",
          "mapbox": {
           "style": "light"
          },
          "paper_bgcolor": "white",
          "plot_bgcolor": "#E5ECF6",
          "polar": {
           "angularaxis": {
            "gridcolor": "white",
            "linecolor": "white",
            "ticks": ""
           },
           "bgcolor": "#E5ECF6",
           "radialaxis": {
            "gridcolor": "white",
            "linecolor": "white",
            "ticks": ""
           }
          },
          "scene": {
           "xaxis": {
            "backgroundcolor": "#E5ECF6",
            "gridcolor": "white",
            "gridwidth": 2,
            "linecolor": "white",
            "showbackground": true,
            "ticks": "",
            "zerolinecolor": "white"
           },
           "yaxis": {
            "backgroundcolor": "#E5ECF6",
            "gridcolor": "white",
            "gridwidth": 2,
            "linecolor": "white",
            "showbackground": true,
            "ticks": "",
            "zerolinecolor": "white"
           },
           "zaxis": {
            "backgroundcolor": "#E5ECF6",
            "gridcolor": "white",
            "gridwidth": 2,
            "linecolor": "white",
            "showbackground": true,
            "ticks": "",
            "zerolinecolor": "white"
           }
          },
          "shapedefaults": {
           "line": {
            "color": "#2a3f5f"
           }
          },
          "ternary": {
           "aaxis": {
            "gridcolor": "white",
            "linecolor": "white",
            "ticks": ""
           },
           "baxis": {
            "gridcolor": "white",
            "linecolor": "white",
            "ticks": ""
           },
           "bgcolor": "#E5ECF6",
           "caxis": {
            "gridcolor": "white",
            "linecolor": "white",
            "ticks": ""
           }
          },
          "title": {
           "x": 0.05
          },
          "xaxis": {
           "automargin": true,
           "gridcolor": "white",
           "linecolor": "white",
           "ticks": "",
           "title": {
            "standoff": 15
           },
           "zerolinecolor": "white",
           "zerolinewidth": 2
          },
          "yaxis": {
           "automargin": true,
           "gridcolor": "white",
           "linecolor": "white",
           "ticks": "",
           "title": {
            "standoff": 15
           },
           "zerolinecolor": "white",
           "zerolinewidth": 2
          }
         }
        },
        "title": {
         "text": "Kumulativni povrat različitih strategija kroz testni period",
         "x": 0.5
        },
        "xaxis": {
         "title": {
          "text": "Vremenska oznaka"
         }
        },
        "yaxis": {
         "tickformat": ".0%",
         "title": {
          "text": "Kumulativni povrat"
         }
        }
       }
      }
     },
     "metadata": {},
     "output_type": "display_data"
    }
   ],
   "source": [
    "# Assuming your DataFrame is called 'df'\n",
    "\n",
    "# Rename the columns for better readability in the legend\n",
    "df = df.rename(columns={\n",
    "    'cumulative_benchmark': 'S&P500',\n",
    "    'cumulative_returns_assets50_MLChoice-xgboost-60-fixed_SimpleAllocator': 'Fiksni',\n",
    "    'cumulative_returns_assets50_MLChoice-xgboost-60-rolling_SimpleAllocator': 'Pomični',\n",
    "    'cumulative_returns_assets50_MLChoice-xgboost-60-expanding_SimpleAllocator': 'Povećavajući',\n",
    "})[[\"timestamp\", \"S&P500\", \"Fiksni\", \"Pomični\", \"Povećavajući\"]]\n",
    "\n",
    "# Create the line chart\n",
    "fig = go.Figure()\n",
    "\n",
    "# Add each column to the chart\n",
    "for column in df.columns[1:]:\n",
    "    fig.add_trace(go.Scatter(\n",
    "        x=df['timestamp'],\n",
    "        y=df[column],\n",
    "        mode='lines',\n",
    "        name=column\n",
    "    ))\n",
    "\n",
    "# Define an eye-pleasing color scheme\n",
    "color_scheme = [\n",
    "    '#1f77b4',  # blue\n",
    "    '#ff7f0e',  # orange\n",
    "    '#2ca02c',  # green\n",
    "    '#d62728',  # red\n",
    "    '#9467bd',   # purple\n",
    "    '#e5b800'   # yellow\n",
    "]\n",
    "\n",
    "# Assign colors to each line\n",
    "for i, trace in enumerate(fig.data):\n",
    "    trace.line.color = color_scheme[i]\n",
    "\n",
    "# Set the title and axis labels\n",
    "fig.update_layout(\n",
    "    title='Kumulativni povrat različitih strategija kroz testni period',\n",
    "    title_x=0.5,\n",
    "    xaxis_title='Vremenska oznaka',\n",
    "    yaxis_title='Kumulativni povrat'\n",
    ")\n",
    "\n",
    "# Show the legend with the formatted names\n",
    "fig.update_layout(\n",
    "    legend=dict(\n",
    "        title='Veličina portfelja:',\n",
    "        orientation='h',\n",
    "        yanchor='bottom',\n",
    "        y=1.02,\n",
    "        xanchor='right',\n",
    "        x=1\n",
    "    )\n",
    ")\n",
    "\n",
    "fig.update_yaxes(tickformat='.0%')\n",
    "\n",
    "# Display the chart\n",
    "fig.show()\n"
   ]
  },
  {
   "cell_type": "code",
   "execution_count": 19,
   "metadata": {},
   "outputs": [],
   "source": [
    "returns_df = rel_results_df.copy(deep=True)\n",
    "\n",
    "returns_df = returns_df.rename(columns={\n",
    "    'benchmark': 'S&P500',\n",
    "    'returns_assets50_MLChoice-xgboost-60-fixed_SimpleAllocator': 'Fiksni',\n",
    "    'returns_assets50_MLChoice-xgboost-60-rolling_SimpleAllocator': 'Pomični',\n",
    "    'returns_assets50_MLChoice-xgboost-60-expanding_SimpleAllocator': 'Povećavajući',\n",
    "})[[\"S&P500\", \"Fiksni\", \"Pomični\", \"Povećavajući\"]]"
   ]
  },
  {
   "cell_type": "code",
   "execution_count": 20,
   "metadata": {},
   "outputs": [
    {
     "name": "stdout",
     "output_type": "stream",
     "text": [
      "Metrics calculated monthly for the 5 year testing period\n"
     ]
    },
    {
     "data": {
      "text/html": [
       "<style type=\"text/css\">\n",
       "#T_7ef17_row0_col3, #T_7ef17_row1_col3, #T_7ef17_row2_col1, #T_7ef17_row3_col3, #T_7ef17_row4_col2 {\n",
       "  background-color: darkblue;\n",
       "}\n",
       "</style>\n",
       "<table id=\"T_7ef17\">\n",
       "  <thead>\n",
       "    <tr>\n",
       "      <th class=\"blank level0\" >&nbsp;</th>\n",
       "      <th id=\"T_7ef17_level0_col0\" class=\"col_heading level0 col0\" >S&P500</th>\n",
       "      <th id=\"T_7ef17_level0_col1\" class=\"col_heading level0 col1\" >Fiksni</th>\n",
       "      <th id=\"T_7ef17_level0_col2\" class=\"col_heading level0 col2\" >Pomični</th>\n",
       "      <th id=\"T_7ef17_level0_col3\" class=\"col_heading level0 col3\" >Povećavajući</th>\n",
       "    </tr>\n",
       "  </thead>\n",
       "  <tbody>\n",
       "    <tr>\n",
       "      <th id=\"T_7ef17_level0_row0\" class=\"row_heading level0 row0\" >Cumulative Returns</th>\n",
       "      <td id=\"T_7ef17_row0_col0\" class=\"data row0 col0\" >71.350133</td>\n",
       "      <td id=\"T_7ef17_row0_col1\" class=\"data row0 col1\" >155.463193</td>\n",
       "      <td id=\"T_7ef17_row0_col2\" class=\"data row0 col2\" >165.680304</td>\n",
       "      <td id=\"T_7ef17_row0_col3\" class=\"data row0 col3\" >198.962374</td>\n",
       "    </tr>\n",
       "    <tr>\n",
       "      <th id=\"T_7ef17_level0_row1\" class=\"row_heading level0 row1\" >Average Returns</th>\n",
       "      <td id=\"T_7ef17_row1_col0\" class=\"data row1 col0\" >0.010443</td>\n",
       "      <td id=\"T_7ef17_row1_col1\" class=\"data row1 col1\" >0.019572</td>\n",
       "      <td id=\"T_7ef17_row1_col2\" class=\"data row1 col2\" >0.019177</td>\n",
       "      <td id=\"T_7ef17_row1_col3\" class=\"data row1 col3\" >0.021252</td>\n",
       "    </tr>\n",
       "    <tr>\n",
       "      <th id=\"T_7ef17_level0_row2\" class=\"row_heading level0 row2\" >Standard Deviation</th>\n",
       "      <td id=\"T_7ef17_row2_col0\" class=\"data row2 col0\" >0.053662</td>\n",
       "      <td id=\"T_7ef17_row2_col1\" class=\"data row2 col1\" >0.087481</td>\n",
       "      <td id=\"T_7ef17_row2_col2\" class=\"data row2 col2\" >0.075137</td>\n",
       "      <td id=\"T_7ef17_row2_col3\" class=\"data row2 col3\" >0.076600</td>\n",
       "    </tr>\n",
       "    <tr>\n",
       "      <th id=\"T_7ef17_level0_row3\" class=\"row_heading level0 row3\" >Sharpe Ratio</th>\n",
       "      <td id=\"T_7ef17_row3_col0\" class=\"data row3 col0\" >-0.178093</td>\n",
       "      <td id=\"T_7ef17_row3_col1\" class=\"data row3 col1\" >-0.004897</td>\n",
       "      <td id=\"T_7ef17_row3_col2\" class=\"data row3 col2\" >-0.010956</td>\n",
       "      <td id=\"T_7ef17_row3_col3\" class=\"data row3 col3\" >0.016342</td>\n",
       "    </tr>\n",
       "    <tr>\n",
       "      <th id=\"T_7ef17_level0_row4\" class=\"row_heading level0 row4\" >Calmar Ratio</th>\n",
       "      <td id=\"T_7ef17_row4_col0\" class=\"data row4 col0\" >0.043645</td>\n",
       "      <td id=\"T_7ef17_row4_col1\" class=\"data row4 col1\" >0.056497</td>\n",
       "      <td id=\"T_7ef17_row4_col2\" class=\"data row4 col2\" >0.073669</td>\n",
       "      <td id=\"T_7ef17_row4_col3\" class=\"data row4 col3\" >0.073199</td>\n",
       "    </tr>\n",
       "  </tbody>\n",
       "</table>\n"
      ],
      "text/plain": [
       "<pandas.io.formats.style.Styler at 0x7fc78f5cb010>"
      ]
     },
     "execution_count": 20,
     "metadata": {},
     "output_type": "execute_result"
    }
   ],
   "source": [
    "metrics_df = pd.DataFrame()\n",
    "\n",
    "for column in returns_df.columns:\n",
    "    returns = returns_df[column]\n",
    "    excess_returns = (((1 + returns).cumprod()).iloc[-1] * 100) - 100\n",
    "    avg_returns = returns.mean()\n",
    "    std_returns = returns.std()\n",
    "    sharpe_ratio = calc_sharpe_ratio(returns)\n",
    "    calmar_ratio = calc_calmar_ratio(returns)\n",
    "\n",
    "    metrics_df[column] = [excess_returns, avg_returns, std_returns, sharpe_ratio, calmar_ratio]\n",
    "\n",
    "metrics_df.index = ['Cumulative Returns', 'Average Returns', 'Standard Deviation', 'Sharpe Ratio', 'Calmar Ratio']\n",
    "print(\"Metrics calculated monthly for the 5 year testing period\")\n",
    "metrics_df.style.highlight_max(color = 'darkblue', axis = 1)"
   ]
  },
  {
   "cell_type": "code",
   "execution_count": 21,
   "metadata": {},
   "outputs": [],
   "source": [
    "returns_df = rel_results_df.copy(deep=True)\n",
    "\n",
    "returns_df = returns_df.rename(columns={\n",
    "    'benchmark': 'S&P500',\n",
    "    'returns_assets50_MLChoice-xgboost-60-fixed_SimpleAllocator': 'Fiksni',\n",
    "    'returns_assets50_MLChoice-xgboost-60-rolling_SimpleAllocator': 'Pomični',\n",
    "    'returns_assets50_MLChoice-xgboost-60-expanding_SimpleAllocator': 'Povećavajući',\n",
    "})[[\"timestamp\", \"S&P500\", \"Fiksni\", \"Pomični\", \"Povećavajući\"]]"
   ]
  },
  {
   "cell_type": "code",
   "execution_count": 22,
   "metadata": {},
   "outputs": [],
   "source": [
    "sharpe_df = pd.DataFrame()\n",
    "calmar_df = pd.DataFrame()\n",
    "cumret_df = pd.DataFrame()\n",
    "std_df = pd.DataFrame()\n",
    "    \n",
    "for column in returns_df.columns[1:]:\n",
    "    sharpe_ratio = []\n",
    "    calmar_ratio = []\n",
    "    cumret = []\n",
    "    std = []\n",
    "    timestamp = []\n",
    "    for i in range(len(returns_df)//12):\n",
    "        timestamp.append(returns_df['timestamp'][i*12:(i+1)*12].iloc[-1])\n",
    "        returns = returns_df[column][i*12:(i+1)*12]\n",
    "        cumret.append(((1 + returns).cumprod()).iloc[-1] - 1)\n",
    "        std.append(returns.std())\n",
    "        sharpe_ratio.append(calc_sharpe_ratio(returns))\n",
    "        calmar_ratio.append(calc_calmar_ratio(returns))\n",
    "\n",
    "    sharpe_df[column] = sharpe_ratio\n",
    "    calmar_df[column] = calmar_ratio\n",
    "    cumret_df[column] = cumret\n",
    "    std_df[column] = std\n",
    "\n",
    "sharpe_df['timestamp'] = timestamp\n",
    "calmar_df['timestamp'] = timestamp\n",
    "cumret_df['timestamp'] = timestamp\n",
    "std_df['timestamp'] = timestamp"
   ]
  },
  {
   "cell_type": "code",
   "execution_count": 23,
   "metadata": {},
   "outputs": [
    {
     "data": {
      "application/vnd.plotly.v1+json": {
       "config": {
        "plotlyServerURL": "https://plot.ly"
       },
       "data": [
        {
         "line": {
          "color": "#1f77b4"
         },
         "mode": "lines",
         "name": "S&P500",
         "showlegend": true,
         "type": "scatter",
         "x": [
          "2019-03-29",
          "2020-03-31",
          "2021-03-31",
          "2022-03-31",
          "2023-03-31"
         ],
         "xaxis": "x",
         "y": [
          -0.18300972404091836,
          -0.25419668911458726,
          0.30798603193101226,
          -0.40503260402027025,
          -0.2504475407113129
         ],
         "yaxis": "y"
        },
        {
         "line": {
          "color": "#ff7f0e"
         },
         "mode": "lines",
         "name": "Fiksni",
         "showlegend": true,
         "type": "scatter",
         "x": [
          "2019-03-29",
          "2020-03-31",
          "2021-03-31",
          "2022-03-31",
          "2023-03-31"
         ],
         "xaxis": "x",
         "y": [
          0.006570231736476285,
          -0.11891323705514942,
          0.5155273277857187,
          -0.381206010227728,
          -0.10476376286322422
         ],
         "yaxis": "y"
        },
        {
         "line": {
          "color": "#2ca02c"
         },
         "mode": "lines",
         "name": "Pomični",
         "showlegend": true,
         "type": "scatter",
         "x": [
          "2019-03-29",
          "2020-03-31",
          "2021-03-31",
          "2022-03-31",
          "2023-03-31"
         ],
         "xaxis": "x",
         "y": [
          0.010835975107769508,
          -0.00429280620670387,
          0.4255286411945406,
          -0.2497004993470679,
          -0.24876267775260846
         ],
         "yaxis": "y"
        },
        {
         "line": {
          "color": "#d62728"
         },
         "mode": "lines",
         "name": "Povećavajući",
         "showlegend": true,
         "type": "scatter",
         "x": [
          "2019-03-29",
          "2020-03-31",
          "2021-03-31",
          "2022-03-31",
          "2023-03-31"
         ],
         "xaxis": "x",
         "y": [
          0.0699488827236744,
          -0.023945972980328512,
          0.5108463353785202,
          -0.3215081178323297,
          -0.18858534257590834
         ],
         "yaxis": "y"
        },
        {
         "line": {
          "color": "#1f77b4"
         },
         "mode": "lines",
         "name": "S&P500",
         "showlegend": false,
         "type": "scatter",
         "x": [
          "2019-03-29",
          "2020-03-31",
          "2021-03-31",
          "2022-03-31",
          "2023-03-31"
         ],
         "xaxis": "x2",
         "y": [
          0.08498847014250985,
          0.014492185763221779,
          0.5341218999495033,
          0.008071476666137525,
          0.03141095008538105
         ],
         "yaxis": "y2"
        },
        {
         "line": {
          "color": "#ff7f0e"
         },
         "mode": "lines",
         "name": "Fiksni",
         "showlegend": false,
         "type": "scatter",
         "x": [
          "2019-03-29",
          "2020-03-31",
          "2021-03-31",
          "2022-03-31",
          "2023-03-31"
         ],
         "xaxis": "x2",
         "y": [
          0.13796073498280817,
          0.013411210047749707,
          1.2189878773005016,
          0.005192729019764154,
          0.08091749270179648
         ],
         "yaxis": "y2"
        },
        {
         "line": {
          "color": "#2ca02c"
         },
         "mode": "lines",
         "name": "Pomični",
         "showlegend": false,
         "type": "scatter",
         "x": [
          "2019-03-29",
          "2020-03-31",
          "2021-03-31",
          "2022-03-31",
          "2023-03-31"
         ],
         "xaxis": "x2",
         "y": [
          0.13989686851009597,
          0.0749642768935912,
          0.9542279427477628,
          0.18801850480987845,
          -0.0019517018546425333
         ],
         "yaxis": "y2"
        },
        {
         "line": {
          "color": "#d62728"
         },
         "mode": "lines",
         "name": "Povećavajući",
         "showlegend": false,
         "type": "scatter",
         "x": [
          "2019-03-29",
          "2020-03-31",
          "2021-03-31",
          "2022-03-31",
          "2023-03-31"
         ],
         "xaxis": "x2",
         "y": [
          0.22777019827004888,
          0.05910506735291068,
          1.6971847327662526,
          0.1805480214282637,
          0.024353068911252173
         ],
         "yaxis": "y2"
        },
        {
         "line": {
          "color": "#1f77b4"
         },
         "mode": "lines",
         "name": "S&P500",
         "showlegend": false,
         "type": "scatter",
         "x": [
          "2019-03-29",
          "2020-03-31",
          "2021-03-31",
          "2022-03-31",
          "2023-03-31"
         ],
         "xaxis": "x3",
         "y": [
          0.1332529170472223,
          0.008415299712122515,
          0.4597652752082577,
          0.0003728995383951439,
          0.02677013116727367
         ],
         "yaxis": "y3"
        },
        {
         "line": {
          "color": "#ff7f0e"
         },
         "mode": "lines",
         "name": "Fiksni",
         "showlegend": false,
         "type": "scatter",
         "x": [
          "2019-03-29",
          "2020-03-31",
          "2021-03-31",
          "2022-03-31",
          "2023-03-31"
         ],
         "xaxis": "x3",
         "y": [
          0.24415917435249468,
          -0.04244193272749919,
          0.9866332133805467,
          -0.004934432926482324,
          0.08472058032498198
         ],
         "yaxis": "y3"
        },
        {
         "line": {
          "color": "#2ca02c"
         },
         "mode": "lines",
         "name": "Pomični",
         "showlegend": false,
         "type": "scatter",
         "x": [
          "2019-03-29",
          "2020-03-31",
          "2021-03-31",
          "2022-03-31",
          "2023-03-31"
         ],
         "xaxis": "x3",
         "y": [
          0.24832318745021076,
          0.1769522339195766,
          0.674760755371629,
          0.12568268251244796,
          -0.040809820462736734
         ],
         "yaxis": "y3"
        },
        {
         "line": {
          "color": "#d62728"
         },
         "mode": "lines",
         "name": "Povećavajući",
         "showlegend": false,
         "type": "scatter",
         "x": [
          "2019-03-29",
          "2020-03-31",
          "2021-03-31",
          "2022-03-31",
          "2023-03-31"
         ],
         "xaxis": "x3",
         "y": [
          0.30783885519843857,
          0.13808989030171936,
          0.7985799479485418,
          0.09761060621142725,
          0.017437380265698188
         ],
         "yaxis": "y3"
        },
        {
         "line": {
          "color": "#1f77b4"
         },
         "mode": "lines",
         "name": "S&P500",
         "showlegend": false,
         "type": "scatter",
         "x": [
          "2019-03-29",
          "2020-03-31",
          "2021-03-31",
          "2022-03-31",
          "2023-03-31"
         ],
         "xaxis": "x4",
         "y": [
          0.04649091253146141,
          0.06760377264007206,
          0.04154318721862052,
          0.04679024122456507,
          0.06362181991390767
         ],
         "yaxis": "y4"
        },
        {
         "line": {
          "color": "#ff7f0e"
         },
         "mode": "lines",
         "name": "Fiksni",
         "showlegend": false,
         "type": "scatter",
         "x": [
          "2019-03-29",
          "2020-03-31",
          "2021-03-31",
          "2022-03-31",
          "2023-03-31"
         ],
         "xaxis": "x4",
         "y": [
          0.06713474975187841,
          0.1291204122353436,
          0.08048789937658489,
          0.05044826050964142,
          0.0906001009417909
         ],
         "yaxis": "y4"
        },
        {
         "line": {
          "color": "#2ca02c"
         },
         "mode": "lines",
         "name": "Pomični",
         "showlegend": false,
         "type": "scatter",
         "x": [
          "2019-03-29",
          "2020-03-31",
          "2021-03-31",
          "2022-03-31",
          "2023-03-31"
         ],
         "xaxis": "x4",
         "y": [
          0.0671799284218121,
          0.11323345120369073,
          0.0597620554124559,
          0.037776881392969336,
          0.0818268177366742
         ],
         "yaxis": "y4"
        },
        {
         "line": {
          "color": "#d62728"
         },
         "mode": "lines",
         "name": "Povećavajući",
         "showlegend": false,
         "type": "scatter",
         "x": [
          "2019-03-29",
          "2020-03-31",
          "2021-03-31",
          "2022-03-31",
          "2023-03-31"
         ],
         "xaxis": "x4",
         "y": [
          0.06316848187222805,
          0.118607519772937,
          0.06215128690696113,
          0.03612242196132141,
          0.08195586905669688
         ],
         "yaxis": "y4"
        }
       ],
       "layout": {
        "height": 800,
        "legend": {
         "orientation": "h",
         "title": {
          "text": "Strategije:"
         },
         "x": 1,
         "xanchor": "right",
         "y": 1.02,
         "yanchor": "bottom"
        },
        "template": {
         "data": {
          "bar": [
           {
            "error_x": {
             "color": "#2a3f5f"
            },
            "error_y": {
             "color": "#2a3f5f"
            },
            "marker": {
             "line": {
              "color": "#E5ECF6",
              "width": 0.5
             },
             "pattern": {
              "fillmode": "overlay",
              "size": 10,
              "solidity": 0.2
             }
            },
            "type": "bar"
           }
          ],
          "barpolar": [
           {
            "marker": {
             "line": {
              "color": "#E5ECF6",
              "width": 0.5
             },
             "pattern": {
              "fillmode": "overlay",
              "size": 10,
              "solidity": 0.2
             }
            },
            "type": "barpolar"
           }
          ],
          "carpet": [
           {
            "aaxis": {
             "endlinecolor": "#2a3f5f",
             "gridcolor": "white",
             "linecolor": "white",
             "minorgridcolor": "white",
             "startlinecolor": "#2a3f5f"
            },
            "baxis": {
             "endlinecolor": "#2a3f5f",
             "gridcolor": "white",
             "linecolor": "white",
             "minorgridcolor": "white",
             "startlinecolor": "#2a3f5f"
            },
            "type": "carpet"
           }
          ],
          "choropleth": [
           {
            "colorbar": {
             "outlinewidth": 0,
             "ticks": ""
            },
            "type": "choropleth"
           }
          ],
          "contour": [
           {
            "colorbar": {
             "outlinewidth": 0,
             "ticks": ""
            },
            "colorscale": [
             [
              0,
              "#0d0887"
             ],
             [
              0.1111111111111111,
              "#46039f"
             ],
             [
              0.2222222222222222,
              "#7201a8"
             ],
             [
              0.3333333333333333,
              "#9c179e"
             ],
             [
              0.4444444444444444,
              "#bd3786"
             ],
             [
              0.5555555555555556,
              "#d8576b"
             ],
             [
              0.6666666666666666,
              "#ed7953"
             ],
             [
              0.7777777777777778,
              "#fb9f3a"
             ],
             [
              0.8888888888888888,
              "#fdca26"
             ],
             [
              1,
              "#f0f921"
             ]
            ],
            "type": "contour"
           }
          ],
          "contourcarpet": [
           {
            "colorbar": {
             "outlinewidth": 0,
             "ticks": ""
            },
            "type": "contourcarpet"
           }
          ],
          "heatmap": [
           {
            "colorbar": {
             "outlinewidth": 0,
             "ticks": ""
            },
            "colorscale": [
             [
              0,
              "#0d0887"
             ],
             [
              0.1111111111111111,
              "#46039f"
             ],
             [
              0.2222222222222222,
              "#7201a8"
             ],
             [
              0.3333333333333333,
              "#9c179e"
             ],
             [
              0.4444444444444444,
              "#bd3786"
             ],
             [
              0.5555555555555556,
              "#d8576b"
             ],
             [
              0.6666666666666666,
              "#ed7953"
             ],
             [
              0.7777777777777778,
              "#fb9f3a"
             ],
             [
              0.8888888888888888,
              "#fdca26"
             ],
             [
              1,
              "#f0f921"
             ]
            ],
            "type": "heatmap"
           }
          ],
          "heatmapgl": [
           {
            "colorbar": {
             "outlinewidth": 0,
             "ticks": ""
            },
            "colorscale": [
             [
              0,
              "#0d0887"
             ],
             [
              0.1111111111111111,
              "#46039f"
             ],
             [
              0.2222222222222222,
              "#7201a8"
             ],
             [
              0.3333333333333333,
              "#9c179e"
             ],
             [
              0.4444444444444444,
              "#bd3786"
             ],
             [
              0.5555555555555556,
              "#d8576b"
             ],
             [
              0.6666666666666666,
              "#ed7953"
             ],
             [
              0.7777777777777778,
              "#fb9f3a"
             ],
             [
              0.8888888888888888,
              "#fdca26"
             ],
             [
              1,
              "#f0f921"
             ]
            ],
            "type": "heatmapgl"
           }
          ],
          "histogram": [
           {
            "marker": {
             "pattern": {
              "fillmode": "overlay",
              "size": 10,
              "solidity": 0.2
             }
            },
            "type": "histogram"
           }
          ],
          "histogram2d": [
           {
            "colorbar": {
             "outlinewidth": 0,
             "ticks": ""
            },
            "colorscale": [
             [
              0,
              "#0d0887"
             ],
             [
              0.1111111111111111,
              "#46039f"
             ],
             [
              0.2222222222222222,
              "#7201a8"
             ],
             [
              0.3333333333333333,
              "#9c179e"
             ],
             [
              0.4444444444444444,
              "#bd3786"
             ],
             [
              0.5555555555555556,
              "#d8576b"
             ],
             [
              0.6666666666666666,
              "#ed7953"
             ],
             [
              0.7777777777777778,
              "#fb9f3a"
             ],
             [
              0.8888888888888888,
              "#fdca26"
             ],
             [
              1,
              "#f0f921"
             ]
            ],
            "type": "histogram2d"
           }
          ],
          "histogram2dcontour": [
           {
            "colorbar": {
             "outlinewidth": 0,
             "ticks": ""
            },
            "colorscale": [
             [
              0,
              "#0d0887"
             ],
             [
              0.1111111111111111,
              "#46039f"
             ],
             [
              0.2222222222222222,
              "#7201a8"
             ],
             [
              0.3333333333333333,
              "#9c179e"
             ],
             [
              0.4444444444444444,
              "#bd3786"
             ],
             [
              0.5555555555555556,
              "#d8576b"
             ],
             [
              0.6666666666666666,
              "#ed7953"
             ],
             [
              0.7777777777777778,
              "#fb9f3a"
             ],
             [
              0.8888888888888888,
              "#fdca26"
             ],
             [
              1,
              "#f0f921"
             ]
            ],
            "type": "histogram2dcontour"
           }
          ],
          "mesh3d": [
           {
            "colorbar": {
             "outlinewidth": 0,
             "ticks": ""
            },
            "type": "mesh3d"
           }
          ],
          "parcoords": [
           {
            "line": {
             "colorbar": {
              "outlinewidth": 0,
              "ticks": ""
             }
            },
            "type": "parcoords"
           }
          ],
          "pie": [
           {
            "automargin": true,
            "type": "pie"
           }
          ],
          "scatter": [
           {
            "fillpattern": {
             "fillmode": "overlay",
             "size": 10,
             "solidity": 0.2
            },
            "type": "scatter"
           }
          ],
          "scatter3d": [
           {
            "line": {
             "colorbar": {
              "outlinewidth": 0,
              "ticks": ""
             }
            },
            "marker": {
             "colorbar": {
              "outlinewidth": 0,
              "ticks": ""
             }
            },
            "type": "scatter3d"
           }
          ],
          "scattercarpet": [
           {
            "marker": {
             "colorbar": {
              "outlinewidth": 0,
              "ticks": ""
             }
            },
            "type": "scattercarpet"
           }
          ],
          "scattergeo": [
           {
            "marker": {
             "colorbar": {
              "outlinewidth": 0,
              "ticks": ""
             }
            },
            "type": "scattergeo"
           }
          ],
          "scattergl": [
           {
            "marker": {
             "colorbar": {
              "outlinewidth": 0,
              "ticks": ""
             }
            },
            "type": "scattergl"
           }
          ],
          "scattermapbox": [
           {
            "marker": {
             "colorbar": {
              "outlinewidth": 0,
              "ticks": ""
             }
            },
            "type": "scattermapbox"
           }
          ],
          "scatterpolar": [
           {
            "marker": {
             "colorbar": {
              "outlinewidth": 0,
              "ticks": ""
             }
            },
            "type": "scatterpolar"
           }
          ],
          "scatterpolargl": [
           {
            "marker": {
             "colorbar": {
              "outlinewidth": 0,
              "ticks": ""
             }
            },
            "type": "scatterpolargl"
           }
          ],
          "scatterternary": [
           {
            "marker": {
             "colorbar": {
              "outlinewidth": 0,
              "ticks": ""
             }
            },
            "type": "scatterternary"
           }
          ],
          "surface": [
           {
            "colorbar": {
             "outlinewidth": 0,
             "ticks": ""
            },
            "colorscale": [
             [
              0,
              "#0d0887"
             ],
             [
              0.1111111111111111,
              "#46039f"
             ],
             [
              0.2222222222222222,
              "#7201a8"
             ],
             [
              0.3333333333333333,
              "#9c179e"
             ],
             [
              0.4444444444444444,
              "#bd3786"
             ],
             [
              0.5555555555555556,
              "#d8576b"
             ],
             [
              0.6666666666666666,
              "#ed7953"
             ],
             [
              0.7777777777777778,
              "#fb9f3a"
             ],
             [
              0.8888888888888888,
              "#fdca26"
             ],
             [
              1,
              "#f0f921"
             ]
            ],
            "type": "surface"
           }
          ],
          "table": [
           {
            "cells": {
             "fill": {
              "color": "#EBF0F8"
             },
             "line": {
              "color": "white"
             }
            },
            "header": {
             "fill": {
              "color": "#C8D4E3"
             },
             "line": {
              "color": "white"
             }
            },
            "type": "table"
           }
          ]
         },
         "layout": {
          "annotationdefaults": {
           "arrowcolor": "#2a3f5f",
           "arrowhead": 0,
           "arrowwidth": 1
          },
          "autotypenumbers": "strict",
          "coloraxis": {
           "colorbar": {
            "outlinewidth": 0,
            "ticks": ""
           }
          },
          "colorscale": {
           "diverging": [
            [
             0,
             "#8e0152"
            ],
            [
             0.1,
             "#c51b7d"
            ],
            [
             0.2,
             "#de77ae"
            ],
            [
             0.3,
             "#f1b6da"
            ],
            [
             0.4,
             "#fde0ef"
            ],
            [
             0.5,
             "#f7f7f7"
            ],
            [
             0.6,
             "#e6f5d0"
            ],
            [
             0.7,
             "#b8e186"
            ],
            [
             0.8,
             "#7fbc41"
            ],
            [
             0.9,
             "#4d9221"
            ],
            [
             1,
             "#276419"
            ]
           ],
           "sequential": [
            [
             0,
             "#0d0887"
            ],
            [
             0.1111111111111111,
             "#46039f"
            ],
            [
             0.2222222222222222,
             "#7201a8"
            ],
            [
             0.3333333333333333,
             "#9c179e"
            ],
            [
             0.4444444444444444,
             "#bd3786"
            ],
            [
             0.5555555555555556,
             "#d8576b"
            ],
            [
             0.6666666666666666,
             "#ed7953"
            ],
            [
             0.7777777777777778,
             "#fb9f3a"
            ],
            [
             0.8888888888888888,
             "#fdca26"
            ],
            [
             1,
             "#f0f921"
            ]
           ],
           "sequentialminus": [
            [
             0,
             "#0d0887"
            ],
            [
             0.1111111111111111,
             "#46039f"
            ],
            [
             0.2222222222222222,
             "#7201a8"
            ],
            [
             0.3333333333333333,
             "#9c179e"
            ],
            [
             0.4444444444444444,
             "#bd3786"
            ],
            [
             0.5555555555555556,
             "#d8576b"
            ],
            [
             0.6666666666666666,
             "#ed7953"
            ],
            [
             0.7777777777777778,
             "#fb9f3a"
            ],
            [
             0.8888888888888888,
             "#fdca26"
            ],
            [
             1,
             "#f0f921"
            ]
           ]
          },
          "colorway": [
           "#636efa",
           "#EF553B",
           "#00cc96",
           "#ab63fa",
           "#FFA15A",
           "#19d3f3",
           "#FF6692",
           "#B6E880",
           "#FF97FF",
           "#FECB52"
          ],
          "font": {
           "color": "#2a3f5f"
          },
          "geo": {
           "bgcolor": "white",
           "lakecolor": "white",
           "landcolor": "#E5ECF6",
           "showlakes": true,
           "showland": true,
           "subunitcolor": "white"
          },
          "hoverlabel": {
           "align": "left"
          },
          "hovermode": "closest",
          "mapbox": {
           "style": "light"
          },
          "paper_bgcolor": "white",
          "plot_bgcolor": "#E5ECF6",
          "polar": {
           "angularaxis": {
            "gridcolor": "white",
            "linecolor": "white",
            "ticks": ""
           },
           "bgcolor": "#E5ECF6",
           "radialaxis": {
            "gridcolor": "white",
            "linecolor": "white",
            "ticks": ""
           }
          },
          "scene": {
           "xaxis": {
            "backgroundcolor": "#E5ECF6",
            "gridcolor": "white",
            "gridwidth": 2,
            "linecolor": "white",
            "showbackground": true,
            "ticks": "",
            "zerolinecolor": "white"
           },
           "yaxis": {
            "backgroundcolor": "#E5ECF6",
            "gridcolor": "white",
            "gridwidth": 2,
            "linecolor": "white",
            "showbackground": true,
            "ticks": "",
            "zerolinecolor": "white"
           },
           "zaxis": {
            "backgroundcolor": "#E5ECF6",
            "gridcolor": "white",
            "gridwidth": 2,
            "linecolor": "white",
            "showbackground": true,
            "ticks": "",
            "zerolinecolor": "white"
           }
          },
          "shapedefaults": {
           "line": {
            "color": "#2a3f5f"
           }
          },
          "ternary": {
           "aaxis": {
            "gridcolor": "white",
            "linecolor": "white",
            "ticks": ""
           },
           "baxis": {
            "gridcolor": "white",
            "linecolor": "white",
            "ticks": ""
           },
           "bgcolor": "#E5ECF6",
           "caxis": {
            "gridcolor": "white",
            "linecolor": "white",
            "ticks": ""
           }
          },
          "title": {
           "x": 0.05
          },
          "xaxis": {
           "automargin": true,
           "gridcolor": "white",
           "linecolor": "white",
           "ticks": "",
           "title": {
            "standoff": 15
           },
           "zerolinecolor": "white",
           "zerolinewidth": 2
          },
          "yaxis": {
           "automargin": true,
           "gridcolor": "white",
           "linecolor": "white",
           "ticks": "",
           "title": {
            "standoff": 15
           },
           "zerolinecolor": "white",
           "zerolinewidth": 2
          }
         }
        },
        "width": 1200,
        "xaxis": {
         "anchor": "y",
         "domain": [
          0,
          0.45
         ],
         "title": {
          "text": "Vremeska oznaka"
         }
        },
        "xaxis2": {
         "anchor": "y2",
         "domain": [
          0.55,
          1
         ],
         "title": {
          "text": "Vremenska oznaka"
         }
        },
        "xaxis3": {
         "anchor": "y3",
         "domain": [
          0,
          0.45
         ],
         "title": {
          "text": "Vremenska oznaka"
         }
        },
        "xaxis4": {
         "anchor": "y4",
         "domain": [
          0.55,
          1
         ],
         "title": {
          "text": "Vremenska oznaka"
         }
        },
        "yaxis": {
         "anchor": "x",
         "domain": [
          0.575,
          1
         ],
         "title": {
          "text": "Sharpe-ov omjer"
         }
        },
        "yaxis2": {
         "anchor": "x2",
         "domain": [
          0.575,
          1
         ],
         "title": {
          "text": "Calmar-ov omjer"
         }
        },
        "yaxis3": {
         "anchor": "x3",
         "domain": [
          0,
          0.425
         ],
         "tickformat": ".0%",
         "title": {
          "text": "Kumulativni povrat"
         }
        },
        "yaxis4": {
         "anchor": "x4",
         "domain": [
          0,
          0.425
         ],
         "title": {
          "text": "Standardna devijacija"
         }
        }
       }
      }
     },
     "metadata": {},
     "output_type": "display_data"
    }
   ],
   "source": [
    "from plotly.subplots import make_subplots\n",
    "\n",
    "# Assuming you have the 'sharpe_df' and 'calmar_df' dataframes\n",
    "\n",
    "# Define the color scheme\n",
    "color_scheme = [\n",
    "    '#1f77b4',  # blue\n",
    "    '#ff7f0e',  # orange\n",
    "    '#2ca02c',  # green\n",
    "    '#d62728',  # red\n",
    "    '#9467bd',  # purple\n",
    "    '#e5b800'   # yellow\n",
    "]\n",
    "\n",
    "# Create subplots with two charts side by side\n",
    "fig = make_subplots(rows=2, cols=2)\n",
    "\n",
    "# Add lines to the first subplot\n",
    "for i, column in enumerate(sharpe_df.columns[:-1]):\n",
    "    fig.add_trace(go.Scatter(\n",
    "        x=sharpe_df['timestamp'],\n",
    "        y=sharpe_df[column],\n",
    "        mode='lines',\n",
    "        name=column,\n",
    "        line=dict(color=color_scheme[i]),\n",
    "        showlegend=True\n",
    "    ), row=1, col=1)\n",
    "\n",
    "# Add lines to the second subplot\n",
    "for i, column in enumerate(calmar_df.columns[:-1]):\n",
    "    fig.add_trace(go.Scatter(\n",
    "        x=calmar_df['timestamp'],\n",
    "        y=calmar_df[column],\n",
    "        mode='lines',\n",
    "        name=column,\n",
    "        line=dict(color=color_scheme[i]),\n",
    "        showlegend=False\n",
    "    ), row=1, col=2)\n",
    "\n",
    "# Add lines to the third subplot\n",
    "for i, column in enumerate(sharpe_df.columns[:-1]):\n",
    "    fig.add_trace(go.Scatter(\n",
    "        x=cumret_df['timestamp'],\n",
    "        y=cumret_df[column],\n",
    "        mode='lines',\n",
    "        name=column,\n",
    "        line=dict(color=color_scheme[i]),\n",
    "        showlegend=False\n",
    "    ), row=2, col=1)\n",
    "\n",
    "# Add lines to the fourth subplot\n",
    "for i, column in enumerate(calmar_df.columns[:-1]):\n",
    "    fig.add_trace(go.Scatter(\n",
    "        x=std_df['timestamp'],\n",
    "        y=std_df[column],\n",
    "        mode='lines',\n",
    "        name=column,\n",
    "        line=dict(color=color_scheme[i]),\n",
    "        showlegend=False\n",
    "    ), row=2, col=2)\n",
    "\n",
    "# Update layout and axis labels\n",
    "fig.update_layout(height=800, width=1200)\n",
    "fig.update_xaxes(title_text='Vremeska oznaka', row=1, col=1)\n",
    "fig.update_xaxes(title_text='Vremenska oznaka', row=1, col=2)\n",
    "fig.update_xaxes(title_text='Vremenska oznaka', row=2, col=1)\n",
    "fig.update_xaxes(title_text='Vremenska oznaka', row=2, col=2)\n",
    "fig.update_yaxes(title_text='Sharpe-ov omjer', row=1, col=1)\n",
    "fig.update_yaxes(title_text='Calmar-ov omjer', row=1, col=2)\n",
    "fig.update_yaxes(title_text='Kumulativni povrat', row=2, col=1, tickformat='.0%')\n",
    "fig.update_yaxes(title_text='Standardna devijacija', row=2, col=2)\n",
    "\n",
    "# Show the legend with the formatted names\n",
    "fig.update_layout(\n",
    "    legend=dict(\n",
    "        title='Strategije:',\n",
    "        orientation='h',\n",
    "        yanchor='bottom',\n",
    "        y=1.02,\n",
    "        xanchor='right',\n",
    "        x=1\n",
    "    )\n",
    ")\n",
    "\n",
    "# Display the chart\n",
    "fig.show()"
   ]
  },
  {
   "cell_type": "code",
   "execution_count": 24,
   "metadata": {},
   "outputs": [],
   "source": [
    "correct_df = rel_results_df.copy(deep=True)\n",
    "\n",
    "correct_df = correct_df.rename(columns={\n",
    "    'correct_assets50_MLChoice-xgboost-60-fixed_SimpleAllocator': 'Fiksni',\n",
    "    'correct_assets50_MLChoice-xgboost-60-rolling_SimpleAllocator': 'Pomični',\n",
    "    'correct_assets50_MLChoice-xgboost-60-expanding_SimpleAllocator': 'Povećavajući',\n",
    "})[[\"Fiksni\", \"Pomični\", \"Povećavajući\"]]"
   ]
  },
  {
   "cell_type": "code",
   "execution_count": 25,
   "metadata": {},
   "outputs": [
    {
     "data": {
      "text/html": [
       "<div>\n",
       "<style scoped>\n",
       "    .dataframe tbody tr th:only-of-type {\n",
       "        vertical-align: middle;\n",
       "    }\n",
       "\n",
       "    .dataframe tbody tr th {\n",
       "        vertical-align: top;\n",
       "    }\n",
       "\n",
       "    .dataframe thead th {\n",
       "        text-align: right;\n",
       "    }\n",
       "</style>\n",
       "<table border=\"1\" class=\"dataframe\">\n",
       "  <thead>\n",
       "    <tr style=\"text-align: right;\">\n",
       "      <th></th>\n",
       "      <th>Fiksni</th>\n",
       "      <th>Pomični</th>\n",
       "      <th>Povećavajući</th>\n",
       "    </tr>\n",
       "  </thead>\n",
       "  <tbody>\n",
       "    <tr>\n",
       "      <th>Average</th>\n",
       "      <td>8.516667</td>\n",
       "      <td>8.0</td>\n",
       "      <td>8.05</td>\n",
       "    </tr>\n",
       "    <tr>\n",
       "      <th>Median</th>\n",
       "      <td>8.000000</td>\n",
       "      <td>8.0</td>\n",
       "      <td>7.00</td>\n",
       "    </tr>\n",
       "    <tr>\n",
       "      <th>Minimum</th>\n",
       "      <td>2.000000</td>\n",
       "      <td>0.0</td>\n",
       "      <td>0.00</td>\n",
       "    </tr>\n",
       "    <tr>\n",
       "      <th>Maximum</th>\n",
       "      <td>18.000000</td>\n",
       "      <td>15.0</td>\n",
       "      <td>20.00</td>\n",
       "    </tr>\n",
       "  </tbody>\n",
       "</table>\n",
       "</div>"
      ],
      "text/plain": [
       "            Fiksni  Pomični  Povećavajući\n",
       "Average   8.516667      8.0          8.05\n",
       "Median    8.000000      8.0          7.00\n",
       "Minimum   2.000000      0.0          0.00\n",
       "Maximum  18.000000     15.0         20.00"
      ]
     },
     "execution_count": 25,
     "metadata": {},
     "output_type": "execute_result"
    }
   ],
   "source": [
    "correct_metric = pd.DataFrame()\n",
    "for column in correct_df.columns:\n",
    "    avg = correct_df[column].mean()\n",
    "    med = correct_df[column].median()\n",
    "    min_val = correct_df[column].min()\n",
    "    max_val = correct_df[column].max()\n",
    "    correct_metric[column] = [avg, med, min_val, max_val]\n",
    "\n",
    "correct_metric.index = [\"Average\", \"Median\", \"Minimum\", \"Maximum\"]\n",
    "correct_metric.head()"
   ]
  }
 ],
 "metadata": {
  "kernelspec": {
   "display_name": "thesis_venv",
   "language": "python",
   "name": "python3"
  },
  "language_info": {
   "codemirror_mode": {
    "name": "ipython",
    "version": 3
   },
   "file_extension": ".py",
   "mimetype": "text/x-python",
   "name": "python",
   "nbconvert_exporter": "python",
   "pygments_lexer": "ipython3",
   "version": "3.10.10"
  },
  "orig_nbformat": 4
 },
 "nbformat": 4,
 "nbformat_minor": 2
}
