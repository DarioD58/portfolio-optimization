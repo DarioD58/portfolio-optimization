{
 "cells": [
  {
   "cell_type": "code",
   "execution_count": 1,
   "metadata": {},
   "outputs": [],
   "source": [
    "import yaml\n",
    "import requests\n",
    "import pandas as pd\n",
    "import io\n",
    "from tqdm import notebook\n",
    "import time\n",
    "from data.extraction import extract_data"
   ]
  },
  {
   "cell_type": "code",
   "execution_count": 2,
   "metadata": {},
   "outputs": [
    {
     "name": "stdout",
     "output_type": "stream",
     "text": [
      "Data already retrived for TIME_SERIES_WEEKLY_ADJUSTED\n",
      "Data already retrived for TIME_SERIES_MONTHLY\n",
      "Data already retrived for TIME_SERIES_MONTHLY_ADJUSTED\n",
      "Data already retrived for NEWS_SENTIMENT\n",
      "Fetching data for OVERVIEW\n"
     ]
    },
    {
     "data": {
      "application/vnd.jupyter.widget-view+json": {
       "model_id": "bf582d44f9654ab2a620743fa50bc737",
       "version_major": 2,
       "version_minor": 0
      },
      "text/plain": [
       "  0%|          | 0/503 [00:00<?, ?it/s]"
      ]
     },
     "metadata": {},
     "output_type": "display_data"
    },
    {
     "name": "stdout",
     "output_type": "stream",
     "text": [
      "Data already retrived for INCOME_STATEMENT\n",
      "Data already retrived for BALANCE_SHEET\n",
      "Data already retrived for CASH_FLOW\n",
      "Data already retrived for EARNINGS\n",
      "Data already retrived for REAL_GDP_PER_CAPITA\n",
      "Data already retrived for REAL_GDP\n",
      "Data already retrived for FEDERAL_FUNDS_RATE\n",
      "Data already retrived for CPI\n",
      "Data already retrived for INFLATION\n"
     ]
    }
   ],
   "source": [
    "extract_data(\"config.yaml\")"
   ]
  }
 ],
 "metadata": {
  "kernelspec": {
   "display_name": "thesis_venv",
   "language": "python",
   "name": "python3"
  },
  "language_info": {
   "codemirror_mode": {
    "name": "ipython",
    "version": 3
   },
   "file_extension": ".py",
   "mimetype": "text/x-python",
   "name": "python",
   "nbconvert_exporter": "python",
   "pygments_lexer": "ipython3",
   "version": "3.10.10"
  },
  "orig_nbformat": 4
 },
 "nbformat": 4,
 "nbformat_minor": 2
}
